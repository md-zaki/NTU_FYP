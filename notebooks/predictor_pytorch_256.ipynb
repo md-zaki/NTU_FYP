{
 "cells": [
  {
   "cell_type": "code",
   "execution_count": 1,
   "metadata": {},
   "outputs": [
    {
     "name": "stderr",
     "output_type": "stream",
     "text": [
      "c:\\Users\\mdzak\\anaconda3\\envs\\fyp\\lib\\site-packages\\tqdm\\auto.py:21: TqdmWarning: IProgress not found. Please update jupyter and ipywidgets. See https://ipywidgets.readthedocs.io/en/stable/user_install.html\n",
      "  from .autonotebook import tqdm as notebook_tqdm\n"
     ]
    }
   ],
   "source": [
    "import torch\n",
    "import torch.nn as nn\n",
    "import torch.nn.functional as F\n",
    "import numpy as np\n",
    "import torch\n",
    "import torchvision\n",
    "import torch.optim as optim\n",
    "import argparse\n",
    "import matplotlib\n",
    "import torch.nn as nn\n",
    "import matplotlib.pyplot as plt\n",
    "import torchvision.transforms as transforms\n",
    "from tqdm.notebook import tqdm\n",
    "from torchvision import datasets\n",
    "from torch.utils.data import DataLoader\n",
    "from torchvision.utils import save_image\n",
    "import pandas as pd\n",
    "import numpy as np\n",
    "matplotlib.style.use('ggplot')\n",
    "from sklearn.model_selection import train_test_split\n",
    "from sklearn.preprocessing import LabelEncoder\n",
    "from sklearn.preprocessing import MinMaxScaler\n",
    "from sklearn.model_selection import RepeatedKFold, cross_val_score\n",
    "from sklearn.model_selection import KFold\n",
    "import copy"
   ]
  },
  {
   "attachments": {},
   "cell_type": "markdown",
   "metadata": {},
   "source": [
    "### Import CSV and merge with drugs"
   ]
  },
  {
   "cell_type": "code",
   "execution_count": 2,
   "metadata": {},
   "outputs": [],
   "source": [
    "selected_dim = 256\n",
    "dimension = pd.read_csv('../results/results' + str(selected_dim) + 'D_latent_space_gene_exp.tsv',sep='\\t')\n",
    "cell_line_name = pd.read_csv('../results_clean/cell_line_name.csv')\n",
    "gdsc_drug = pd.read_csv('../results_clean/gdsc_drug_nodash.csv')\n",
    "dimension.drop(columns=['Unnamed: 0'], inplace=True)\n",
    "gdsc_drug.drop(columns=['Unnamed: 0'], inplace= True)\n",
    "dimension['CELL_LINE_NAME'] = cell_line_name['CELL_LINE_NAME']\n",
    "dimension_w_drug = pd.merge(dimension, gdsc_drug, on='CELL_LINE_NAME')\n",
    "dimension_w_drug.drop(columns=['CELL_LINE_NAME'],inplace=True)\n",
    "# dimension_w_drug = pd.get_dummies(dimension_w_drug, columns=['DRUG_NAME'])"
   ]
  },
  {
   "cell_type": "code",
   "execution_count": 3,
   "metadata": {},
   "outputs": [
    {
     "data": {
      "text/html": [
       "<div>\n",
       "<style scoped>\n",
       "    .dataframe tbody tr th:only-of-type {\n",
       "        vertical-align: middle;\n",
       "    }\n",
       "\n",
       "    .dataframe tbody tr th {\n",
       "        vertical-align: top;\n",
       "    }\n",
       "\n",
       "    .dataframe thead th {\n",
       "        text-align: right;\n",
       "    }\n",
       "</style>\n",
       "<table border=\"1\" class=\"dataframe\">\n",
       "  <thead>\n",
       "    <tr style=\"text-align: right;\">\n",
       "      <th></th>\n",
       "      <th>0</th>\n",
       "      <th>1</th>\n",
       "      <th>2</th>\n",
       "      <th>3</th>\n",
       "      <th>4</th>\n",
       "      <th>5</th>\n",
       "      <th>6</th>\n",
       "      <th>7</th>\n",
       "      <th>8</th>\n",
       "      <th>9</th>\n",
       "      <th>...</th>\n",
       "      <th>248</th>\n",
       "      <th>249</th>\n",
       "      <th>250</th>\n",
       "      <th>251</th>\n",
       "      <th>252</th>\n",
       "      <th>253</th>\n",
       "      <th>254</th>\n",
       "      <th>255</th>\n",
       "      <th>LN_IC50</th>\n",
       "      <th>DRUG_NAME</th>\n",
       "    </tr>\n",
       "  </thead>\n",
       "  <tbody>\n",
       "    <tr>\n",
       "      <th>0</th>\n",
       "      <td>9.580048e-07</td>\n",
       "      <td>5.955522e-06</td>\n",
       "      <td>0.000014</td>\n",
       "      <td>0.000014</td>\n",
       "      <td>0.000001</td>\n",
       "      <td>1.570985e-05</td>\n",
       "      <td>-0.000010</td>\n",
       "      <td>0.000007</td>\n",
       "      <td>3.700359e-07</td>\n",
       "      <td>0.000015</td>\n",
       "      <td>...</td>\n",
       "      <td>-0.000007</td>\n",
       "      <td>-4.242860e-07</td>\n",
       "      <td>0.000013</td>\n",
       "      <td>-3.849741e-05</td>\n",
       "      <td>0.000005</td>\n",
       "      <td>-0.000002</td>\n",
       "      <td>8.483571e-06</td>\n",
       "      <td>-0.000007</td>\n",
       "      <td>2.686879</td>\n",
       "      <td>LGK974</td>\n",
       "    </tr>\n",
       "    <tr>\n",
       "      <th>1</th>\n",
       "      <td>4.754656e-06</td>\n",
       "      <td>6.616774e-06</td>\n",
       "      <td>0.000025</td>\n",
       "      <td>0.000009</td>\n",
       "      <td>-0.000004</td>\n",
       "      <td>1.614111e-05</td>\n",
       "      <td>-0.000016</td>\n",
       "      <td>0.000008</td>\n",
       "      <td>1.983518e-05</td>\n",
       "      <td>0.000018</td>\n",
       "      <td>...</td>\n",
       "      <td>-0.000017</td>\n",
       "      <td>-5.611180e-07</td>\n",
       "      <td>0.000008</td>\n",
       "      <td>3.470145e-05</td>\n",
       "      <td>-0.000025</td>\n",
       "      <td>-0.000009</td>\n",
       "      <td>9.388927e-06</td>\n",
       "      <td>-0.000017</td>\n",
       "      <td>5.515893</td>\n",
       "      <td>5-azacytidine</td>\n",
       "    </tr>\n",
       "    <tr>\n",
       "      <th>2</th>\n",
       "      <td>8.859231e-06</td>\n",
       "      <td>9.899239e-06</td>\n",
       "      <td>0.000039</td>\n",
       "      <td>0.000022</td>\n",
       "      <td>-0.000003</td>\n",
       "      <td>2.657529e-05</td>\n",
       "      <td>-0.000026</td>\n",
       "      <td>0.000012</td>\n",
       "      <td>2.709077e-05</td>\n",
       "      <td>0.000030</td>\n",
       "      <td>...</td>\n",
       "      <td>-0.000035</td>\n",
       "      <td>-1.303582e-06</td>\n",
       "      <td>0.000014</td>\n",
       "      <td>1.111220e-05</td>\n",
       "      <td>-0.000027</td>\n",
       "      <td>-0.000007</td>\n",
       "      <td>1.565055e-05</td>\n",
       "      <td>-0.000025</td>\n",
       "      <td>2.400499</td>\n",
       "      <td>Sorafenib</td>\n",
       "    </tr>\n",
       "    <tr>\n",
       "      <th>3</th>\n",
       "      <td>2.740748e-06</td>\n",
       "      <td>2.525117e-06</td>\n",
       "      <td>0.000013</td>\n",
       "      <td>0.000001</td>\n",
       "      <td>-0.000004</td>\n",
       "      <td>3.479236e-06</td>\n",
       "      <td>-0.000007</td>\n",
       "      <td>0.000005</td>\n",
       "      <td>1.858863e-05</td>\n",
       "      <td>0.000010</td>\n",
       "      <td>...</td>\n",
       "      <td>-0.000021</td>\n",
       "      <td>3.242361e-07</td>\n",
       "      <td>-0.000002</td>\n",
       "      <td>5.823753e-05</td>\n",
       "      <td>-0.000034</td>\n",
       "      <td>-0.000007</td>\n",
       "      <td>1.567669e-06</td>\n",
       "      <td>-0.000011</td>\n",
       "      <td>3.499021</td>\n",
       "      <td>PRT062607</td>\n",
       "    </tr>\n",
       "    <tr>\n",
       "      <th>4</th>\n",
       "      <td>7.027902e-06</td>\n",
       "      <td>8.740029e-06</td>\n",
       "      <td>0.000034</td>\n",
       "      <td>0.000017</td>\n",
       "      <td>-0.000003</td>\n",
       "      <td>2.332633e-05</td>\n",
       "      <td>-0.000024</td>\n",
       "      <td>0.000011</td>\n",
       "      <td>2.547213e-05</td>\n",
       "      <td>0.000028</td>\n",
       "      <td>...</td>\n",
       "      <td>-0.000028</td>\n",
       "      <td>-1.107897e-06</td>\n",
       "      <td>0.000012</td>\n",
       "      <td>2.180096e-05</td>\n",
       "      <td>-0.000028</td>\n",
       "      <td>-0.000007</td>\n",
       "      <td>1.383049e-05</td>\n",
       "      <td>-0.000025</td>\n",
       "      <td>2.639762</td>\n",
       "      <td>AZD5438</td>\n",
       "    </tr>\n",
       "    <tr>\n",
       "      <th>...</th>\n",
       "      <td>...</td>\n",
       "      <td>...</td>\n",
       "      <td>...</td>\n",
       "      <td>...</td>\n",
       "      <td>...</td>\n",
       "      <td>...</td>\n",
       "      <td>...</td>\n",
       "      <td>...</td>\n",
       "      <td>...</td>\n",
       "      <td>...</td>\n",
       "      <td>...</td>\n",
       "      <td>...</td>\n",
       "      <td>...</td>\n",
       "      <td>...</td>\n",
       "      <td>...</td>\n",
       "      <td>...</td>\n",
       "      <td>...</td>\n",
       "      <td>...</td>\n",
       "      <td>...</td>\n",
       "      <td>...</td>\n",
       "      <td>...</td>\n",
       "    </tr>\n",
       "    <tr>\n",
       "      <th>157613</th>\n",
       "      <td>5.458063e-06</td>\n",
       "      <td>5.013088e-06</td>\n",
       "      <td>0.000020</td>\n",
       "      <td>0.000007</td>\n",
       "      <td>-0.000004</td>\n",
       "      <td>1.177480e-05</td>\n",
       "      <td>-0.000012</td>\n",
       "      <td>0.000007</td>\n",
       "      <td>1.793895e-05</td>\n",
       "      <td>0.000016</td>\n",
       "      <td>...</td>\n",
       "      <td>-0.000020</td>\n",
       "      <td>-3.275805e-07</td>\n",
       "      <td>0.000006</td>\n",
       "      <td>4.242635e-05</td>\n",
       "      <td>-0.000027</td>\n",
       "      <td>-0.000010</td>\n",
       "      <td>7.394970e-06</td>\n",
       "      <td>-0.000014</td>\n",
       "      <td>2.482369</td>\n",
       "      <td>AGK2</td>\n",
       "    </tr>\n",
       "    <tr>\n",
       "      <th>157614</th>\n",
       "      <td>9.209887e-06</td>\n",
       "      <td>6.249217e-06</td>\n",
       "      <td>0.000018</td>\n",
       "      <td>0.000010</td>\n",
       "      <td>-0.000004</td>\n",
       "      <td>1.433584e-05</td>\n",
       "      <td>-0.000007</td>\n",
       "      <td>0.000007</td>\n",
       "      <td>9.192792e-06</td>\n",
       "      <td>0.000015</td>\n",
       "      <td>...</td>\n",
       "      <td>-0.000010</td>\n",
       "      <td>-5.935721e-07</td>\n",
       "      <td>0.000011</td>\n",
       "      <td>2.720339e-05</td>\n",
       "      <td>-0.000013</td>\n",
       "      <td>-0.000011</td>\n",
       "      <td>1.194827e-05</td>\n",
       "      <td>-0.000011</td>\n",
       "      <td>2.919147</td>\n",
       "      <td>Cisplatin</td>\n",
       "    </tr>\n",
       "    <tr>\n",
       "      <th>157615</th>\n",
       "      <td>4.024799e-06</td>\n",
       "      <td>1.372068e-07</td>\n",
       "      <td>0.000011</td>\n",
       "      <td>0.000006</td>\n",
       "      <td>-0.000001</td>\n",
       "      <td>-5.288073e-08</td>\n",
       "      <td>-0.000005</td>\n",
       "      <td>0.000003</td>\n",
       "      <td>1.809493e-05</td>\n",
       "      <td>0.000009</td>\n",
       "      <td>...</td>\n",
       "      <td>-0.000028</td>\n",
       "      <td>7.446235e-07</td>\n",
       "      <td>-0.000008</td>\n",
       "      <td>4.290721e-05</td>\n",
       "      <td>-0.000034</td>\n",
       "      <td>-0.000002</td>\n",
       "      <td>9.718482e-08</td>\n",
       "      <td>-0.000009</td>\n",
       "      <td>4.440038</td>\n",
       "      <td>Serdemetan</td>\n",
       "    </tr>\n",
       "    <tr>\n",
       "      <th>157616</th>\n",
       "      <td>7.814031e-06</td>\n",
       "      <td>8.357787e-06</td>\n",
       "      <td>0.000035</td>\n",
       "      <td>0.000021</td>\n",
       "      <td>-0.000001</td>\n",
       "      <td>2.442457e-05</td>\n",
       "      <td>-0.000024</td>\n",
       "      <td>0.000010</td>\n",
       "      <td>2.252506e-05</td>\n",
       "      <td>0.000027</td>\n",
       "      <td>...</td>\n",
       "      <td>-0.000028</td>\n",
       "      <td>-9.688630e-07</td>\n",
       "      <td>0.000013</td>\n",
       "      <td>-9.838519e-08</td>\n",
       "      <td>-0.000020</td>\n",
       "      <td>-0.000003</td>\n",
       "      <td>1.485326e-05</td>\n",
       "      <td>-0.000022</td>\n",
       "      <td>3.617427</td>\n",
       "      <td>ABT737</td>\n",
       "    </tr>\n",
       "    <tr>\n",
       "      <th>157617</th>\n",
       "      <td>7.377646e-06</td>\n",
       "      <td>8.585575e-06</td>\n",
       "      <td>0.000035</td>\n",
       "      <td>0.000020</td>\n",
       "      <td>-0.000002</td>\n",
       "      <td>2.491427e-05</td>\n",
       "      <td>-0.000026</td>\n",
       "      <td>0.000010</td>\n",
       "      <td>2.343569e-05</td>\n",
       "      <td>0.000029</td>\n",
       "      <td>...</td>\n",
       "      <td>-0.000025</td>\n",
       "      <td>-9.486606e-07</td>\n",
       "      <td>0.000012</td>\n",
       "      <td>8.796885e-06</td>\n",
       "      <td>-0.000019</td>\n",
       "      <td>-0.000003</td>\n",
       "      <td>1.471098e-05</td>\n",
       "      <td>-0.000027</td>\n",
       "      <td>4.505697</td>\n",
       "      <td>Mirin</td>\n",
       "    </tr>\n",
       "  </tbody>\n",
       "</table>\n",
       "<p>157618 rows × 258 columns</p>\n",
       "</div>"
      ],
      "text/plain": [
       "                   0             1         2         3         4  \\\n",
       "0       9.580048e-07  5.955522e-06  0.000014  0.000014  0.000001   \n",
       "1       4.754656e-06  6.616774e-06  0.000025  0.000009 -0.000004   \n",
       "2       8.859231e-06  9.899239e-06  0.000039  0.000022 -0.000003   \n",
       "3       2.740748e-06  2.525117e-06  0.000013  0.000001 -0.000004   \n",
       "4       7.027902e-06  8.740029e-06  0.000034  0.000017 -0.000003   \n",
       "...              ...           ...       ...       ...       ...   \n",
       "157613  5.458063e-06  5.013088e-06  0.000020  0.000007 -0.000004   \n",
       "157614  9.209887e-06  6.249217e-06  0.000018  0.000010 -0.000004   \n",
       "157615  4.024799e-06  1.372068e-07  0.000011  0.000006 -0.000001   \n",
       "157616  7.814031e-06  8.357787e-06  0.000035  0.000021 -0.000001   \n",
       "157617  7.377646e-06  8.585575e-06  0.000035  0.000020 -0.000002   \n",
       "\n",
       "                   5         6         7             8         9  ...  \\\n",
       "0       1.570985e-05 -0.000010  0.000007  3.700359e-07  0.000015  ...   \n",
       "1       1.614111e-05 -0.000016  0.000008  1.983518e-05  0.000018  ...   \n",
       "2       2.657529e-05 -0.000026  0.000012  2.709077e-05  0.000030  ...   \n",
       "3       3.479236e-06 -0.000007  0.000005  1.858863e-05  0.000010  ...   \n",
       "4       2.332633e-05 -0.000024  0.000011  2.547213e-05  0.000028  ...   \n",
       "...              ...       ...       ...           ...       ...  ...   \n",
       "157613  1.177480e-05 -0.000012  0.000007  1.793895e-05  0.000016  ...   \n",
       "157614  1.433584e-05 -0.000007  0.000007  9.192792e-06  0.000015  ...   \n",
       "157615 -5.288073e-08 -0.000005  0.000003  1.809493e-05  0.000009  ...   \n",
       "157616  2.442457e-05 -0.000024  0.000010  2.252506e-05  0.000027  ...   \n",
       "157617  2.491427e-05 -0.000026  0.000010  2.343569e-05  0.000029  ...   \n",
       "\n",
       "             248           249       250           251       252       253  \\\n",
       "0      -0.000007 -4.242860e-07  0.000013 -3.849741e-05  0.000005 -0.000002   \n",
       "1      -0.000017 -5.611180e-07  0.000008  3.470145e-05 -0.000025 -0.000009   \n",
       "2      -0.000035 -1.303582e-06  0.000014  1.111220e-05 -0.000027 -0.000007   \n",
       "3      -0.000021  3.242361e-07 -0.000002  5.823753e-05 -0.000034 -0.000007   \n",
       "4      -0.000028 -1.107897e-06  0.000012  2.180096e-05 -0.000028 -0.000007   \n",
       "...          ...           ...       ...           ...       ...       ...   \n",
       "157613 -0.000020 -3.275805e-07  0.000006  4.242635e-05 -0.000027 -0.000010   \n",
       "157614 -0.000010 -5.935721e-07  0.000011  2.720339e-05 -0.000013 -0.000011   \n",
       "157615 -0.000028  7.446235e-07 -0.000008  4.290721e-05 -0.000034 -0.000002   \n",
       "157616 -0.000028 -9.688630e-07  0.000013 -9.838519e-08 -0.000020 -0.000003   \n",
       "157617 -0.000025 -9.486606e-07  0.000012  8.796885e-06 -0.000019 -0.000003   \n",
       "\n",
       "                 254       255   LN_IC50      DRUG_NAME  \n",
       "0       8.483571e-06 -0.000007  2.686879         LGK974  \n",
       "1       9.388927e-06 -0.000017  5.515893  5-azacytidine  \n",
       "2       1.565055e-05 -0.000025  2.400499      Sorafenib  \n",
       "3       1.567669e-06 -0.000011  3.499021      PRT062607  \n",
       "4       1.383049e-05 -0.000025  2.639762        AZD5438  \n",
       "...              ...       ...       ...            ...  \n",
       "157613  7.394970e-06 -0.000014  2.482369           AGK2  \n",
       "157614  1.194827e-05 -0.000011  2.919147      Cisplatin  \n",
       "157615  9.718482e-08 -0.000009  4.440038     Serdemetan  \n",
       "157616  1.485326e-05 -0.000022  3.617427         ABT737  \n",
       "157617  1.471098e-05 -0.000027  4.505697          Mirin  \n",
       "\n",
       "[157618 rows x 258 columns]"
      ]
     },
     "execution_count": 3,
     "metadata": {},
     "output_type": "execute_result"
    }
   ],
   "source": [
    "dimension_w_drug = dimension_w_drug.sample(frac=1, random_state=33).reset_index(drop=True)\n",
    "dimension_w_drug"
   ]
  },
  {
   "attachments": {},
   "cell_type": "markdown",
   "metadata": {},
   "source": [
    "### Seperate continuous and categorical columns"
   ]
  },
  {
   "cell_type": "code",
   "execution_count": 4,
   "metadata": {},
   "outputs": [],
   "source": [
    "cat_cols = ['DRUG_NAME']\n",
    "cont_cols = dimension_w_drug.drop(columns=['DRUG_NAME', 'LN_IC50']).columns\n",
    "label_cols = ['LN_IC50']"
   ]
  },
  {
   "cell_type": "code",
   "execution_count": 5,
   "metadata": {},
   "outputs": [
    {
     "data": {
      "text/plain": [
       "Index(['0', '1', '2', '3', '4', '5', '6', '7', '8', '9',\n",
       "       ...\n",
       "       '246', '247', '248', '249', '250', '251', '252', '253', '254', '255'],\n",
       "      dtype='object', length=256)"
      ]
     },
     "execution_count": 5,
     "metadata": {},
     "output_type": "execute_result"
    }
   ],
   "source": [
    "cont_cols"
   ]
  },
  {
   "cell_type": "code",
   "execution_count": 6,
   "metadata": {},
   "outputs": [
    {
     "data": {
      "text/plain": [
       "['DRUG_NAME']"
      ]
     },
     "execution_count": 6,
     "metadata": {},
     "output_type": "execute_result"
    }
   ],
   "source": [
    "cat_cols"
   ]
  },
  {
   "attachments": {},
   "cell_type": "markdown",
   "metadata": {},
   "source": [
    "### Categorify"
   ]
  },
  {
   "cell_type": "code",
   "execution_count": 7,
   "metadata": {},
   "outputs": [],
   "source": [
    "for cat in cat_cols:\n",
    "    dimension_w_drug[cat] = dimension_w_drug[cat].astype('category')"
   ]
  },
  {
   "cell_type": "code",
   "execution_count": 8,
   "metadata": {},
   "outputs": [
    {
     "data": {
      "text/plain": [
       "0             float64\n",
       "1             float64\n",
       "2             float64\n",
       "3             float64\n",
       "4             float64\n",
       "               ...   \n",
       "253           float64\n",
       "254           float64\n",
       "255           float64\n",
       "LN_IC50       float64\n",
       "DRUG_NAME    category\n",
       "Length: 258, dtype: object"
      ]
     },
     "execution_count": 8,
     "metadata": {},
     "output_type": "execute_result"
    }
   ],
   "source": [
    "dimension_w_drug.dtypes"
   ]
  },
  {
   "cell_type": "code",
   "execution_count": 9,
   "metadata": {},
   "outputs": [
    {
     "data": {
      "text/plain": [
       "0           LGK974\n",
       "1    5-azacytidine\n",
       "2        Sorafenib\n",
       "3        PRT062607\n",
       "4          AZD5438\n",
       "Name: DRUG_NAME, dtype: category\n",
       "Categories (286, object): ['123138', '123829', '150412', '5-Fluorouracil', ..., 'Zoledronate', 'alpha-lipoic acid', 'ascorbate (vitamin C)', 'glutathione']"
      ]
     },
     "execution_count": 9,
     "metadata": {},
     "output_type": "execute_result"
    }
   ],
   "source": [
    "dimension_w_drug['DRUG_NAME'].head()"
   ]
  },
  {
   "cell_type": "code",
   "execution_count": 10,
   "metadata": {},
   "outputs": [
    {
     "data": {
      "text/plain": [
       "Index(['123138', '123829', '150412', '5-Fluorouracil', '5-azacytidine',\n",
       "       '50869', '615590', '630600', '667880', '720427',\n",
       "       ...\n",
       "       'WZ4003', 'Wee1 Inhibitor', 'Wnt-C59', 'XAV939', 'YK-4-279', 'ZM447439',\n",
       "       'Zoledronate', 'alpha-lipoic acid', 'ascorbate (vitamin C)',\n",
       "       'glutathione'],\n",
       "      dtype='object', length=286)"
      ]
     },
     "execution_count": 10,
     "metadata": {},
     "output_type": "execute_result"
    }
   ],
   "source": [
    "dimension_w_drug['DRUG_NAME'].cat.categories"
   ]
  },
  {
   "cell_type": "code",
   "execution_count": 11,
   "metadata": {},
   "outputs": [],
   "source": [
    "drug_name = dimension_w_drug['DRUG_NAME'].cat.codes.values"
   ]
  },
  {
   "cell_type": "code",
   "execution_count": 12,
   "metadata": {},
   "outputs": [],
   "source": [
    "cats = np.stack([drug_name],1)\n",
    "cats = torch.tensor(cats, dtype=torch.int64)"
   ]
  },
  {
   "cell_type": "code",
   "execution_count": 13,
   "metadata": {},
   "outputs": [
    {
     "data": {
      "text/plain": [
       "tensor([[146],\n",
       "        [  4],\n",
       "        [237],\n",
       "        ...,\n",
       "        [235],\n",
       "        [ 16],\n",
       "        [168]])"
      ]
     },
     "execution_count": 13,
     "metadata": {},
     "output_type": "execute_result"
    }
   ],
   "source": [
    "cats"
   ]
  },
  {
   "attachments": {},
   "cell_type": "markdown",
   "metadata": {},
   "source": [
    "### Continuous variables to tensor"
   ]
  },
  {
   "cell_type": "code",
   "execution_count": 14,
   "metadata": {},
   "outputs": [
    {
     "data": {
      "text/plain": [
       "tensor([[ 9.5800e-07,  5.9555e-06,  1.3503e-05,  ..., -2.1892e-06,\n",
       "          8.4836e-06, -7.1867e-06],\n",
       "        [ 4.7547e-06,  6.6168e-06,  2.4625e-05,  ..., -8.5705e-06,\n",
       "          9.3889e-06, -1.7378e-05],\n",
       "        [ 8.8592e-06,  9.8992e-06,  3.9467e-05,  ..., -6.7398e-06,\n",
       "          1.5651e-05, -2.5286e-05],\n",
       "        ...,\n",
       "        [ 4.0248e-06,  1.3721e-07,  1.0642e-05,  ..., -2.4570e-06,\n",
       "          9.7185e-08, -9.0279e-06],\n",
       "        [ 7.8140e-06,  8.3578e-06,  3.5009e-05,  ..., -3.4043e-06,\n",
       "          1.4853e-05, -2.2241e-05],\n",
       "        [ 7.3776e-06,  8.5856e-06,  3.5372e-05,  ..., -3.1254e-06,\n",
       "          1.4711e-05, -2.6975e-05]])"
      ]
     },
     "execution_count": 14,
     "metadata": {},
     "output_type": "execute_result"
    }
   ],
   "source": [
    "conts = np.stack([dimension_w_drug[col].values for col in cont_cols], 1)\n",
    "conts = torch.tensor(conts, dtype=torch.float)\n",
    "conts"
   ]
  },
  {
   "attachments": {},
   "cell_type": "markdown",
   "metadata": {},
   "source": [
    "### Labels to tensor"
   ]
  },
  {
   "cell_type": "code",
   "execution_count": 15,
   "metadata": {},
   "outputs": [
    {
     "data": {
      "text/plain": [
       "tensor([[2.6869],\n",
       "        [5.5159],\n",
       "        [2.4005],\n",
       "        ...,\n",
       "        [4.4400],\n",
       "        [3.6174],\n",
       "        [4.5057]])"
      ]
     },
     "execution_count": 15,
     "metadata": {},
     "output_type": "execute_result"
    }
   ],
   "source": [
    "labels = np.stack([dimension_w_drug[col].values for col in label_cols], 1)\n",
    "labels = torch.tensor(labels, dtype=torch.float)\n",
    "labels"
   ]
  },
  {
   "attachments": {},
   "cell_type": "markdown",
   "metadata": {},
   "source": [
    "### Embedding size"
   ]
  },
  {
   "cell_type": "code",
   "execution_count": 16,
   "metadata": {},
   "outputs": [
    {
     "data": {
      "text/plain": [
       "[(286, 50)]"
      ]
     },
     "execution_count": 16,
     "metadata": {},
     "output_type": "execute_result"
    }
   ],
   "source": [
    "cat_szs = [len(dimension_w_drug[col].cat.categories) for col in cat_cols]\n",
    "emb_szs = [(size, min(50, (size+1)//2)) for size in cat_szs]\n",
    "emb_szs"
   ]
  },
  {
   "attachments": {},
   "cell_type": "markdown",
   "metadata": {},
   "source": [
    "### Define model"
   ]
  },
  {
   "cell_type": "code",
   "execution_count": 17,
   "metadata": {},
   "outputs": [],
   "source": [
    "class TabularModel(nn.Module):\n",
    "\n",
    "    def __init__(self, emb_szs, n_cont, out_sz, layers, p=0.5):\n",
    "        super().__init__()\n",
    "        self.embeds = nn.ModuleList([nn.Embedding(ni, nf) for ni,nf in emb_szs])\n",
    "        self.emb_drop = nn.Dropout(p)\n",
    "        self.bn_cont = nn.BatchNorm1d(n_cont)\n",
    "        \n",
    "        layerlist = []\n",
    "        n_emb = sum((nf for ni,nf in emb_szs))\n",
    "        n_in = n_emb + n_cont\n",
    "        \n",
    "        for i in layers:\n",
    "            layerlist.append(nn.Linear(n_in,i)) \n",
    "            layerlist.append(nn.ReLU(inplace=True))\n",
    "            layerlist.append(nn.BatchNorm1d(i))\n",
    "            layerlist.append(nn.Dropout(p))\n",
    "            n_in = i\n",
    "        layerlist.append(nn.Linear(layers[-1],out_sz))\n",
    "            \n",
    "        self.layers = nn.Sequential(*layerlist)\n",
    "    \n",
    "    def forward(self, x_cat, x_cont):\n",
    "        embeddings = []\n",
    "        for i,e in enumerate(self.embeds):\n",
    "            embeddings.append(e(x_cat[:,i]))\n",
    "        x = torch.cat(embeddings, 1)\n",
    "        x = self.emb_drop(x)\n",
    "        \n",
    "        x_cont = self.bn_cont(x_cont)\n",
    "        x = torch.cat([x, x_cont], 1)\n",
    "        x = self.layers(x)\n",
    "        return x"
   ]
  },
  {
   "cell_type": "code",
   "execution_count": 18,
   "metadata": {},
   "outputs": [],
   "source": [
    "torch.manual_seed(33)\n",
    "model = TabularModel(emb_szs, conts.shape[1], 1, [200,100], p=0.4)"
   ]
  },
  {
   "cell_type": "code",
   "execution_count": 19,
   "metadata": {},
   "outputs": [
    {
     "data": {
      "text/plain": [
       "TabularModel(\n",
       "  (embeds): ModuleList(\n",
       "    (0): Embedding(286, 50)\n",
       "  )\n",
       "  (emb_drop): Dropout(p=0.4, inplace=False)\n",
       "  (bn_cont): BatchNorm1d(256, eps=1e-05, momentum=0.1, affine=True, track_running_stats=True)\n",
       "  (layers): Sequential(\n",
       "    (0): Linear(in_features=306, out_features=200, bias=True)\n",
       "    (1): ReLU(inplace=True)\n",
       "    (2): BatchNorm1d(200, eps=1e-05, momentum=0.1, affine=True, track_running_stats=True)\n",
       "    (3): Dropout(p=0.4, inplace=False)\n",
       "    (4): Linear(in_features=200, out_features=100, bias=True)\n",
       "    (5): ReLU(inplace=True)\n",
       "    (6): BatchNorm1d(100, eps=1e-05, momentum=0.1, affine=True, track_running_stats=True)\n",
       "    (7): Dropout(p=0.4, inplace=False)\n",
       "    (8): Linear(in_features=100, out_features=1, bias=True)\n",
       "  )\n",
       ")"
      ]
     },
     "execution_count": 19,
     "metadata": {},
     "output_type": "execute_result"
    }
   ],
   "source": [
    "model"
   ]
  },
  {
   "attachments": {},
   "cell_type": "markdown",
   "metadata": {},
   "source": [
    "### Loss and Optimizer Function"
   ]
  },
  {
   "cell_type": "code",
   "execution_count": 20,
   "metadata": {},
   "outputs": [],
   "source": [
    "loss_fn = nn.MSELoss()\n",
    "optimizer = torch.optim.Adam(model.parameters(), lr=0.001)"
   ]
  },
  {
   "cell_type": "code",
   "execution_count": 21,
   "metadata": {},
   "outputs": [
    {
     "data": {
      "text/plain": [
       "'NVIDIA GeForce RTX 3060'"
      ]
     },
     "execution_count": 21,
     "metadata": {},
     "output_type": "execute_result"
    }
   ],
   "source": [
    "torch.cuda.get_device_name(0) # Get name device with ID '0'"
   ]
  },
  {
   "attachments": {},
   "cell_type": "markdown",
   "metadata": {},
   "source": [
    "### Perform train/test splits"
   ]
  },
  {
   "cell_type": "code",
   "execution_count": 22,
   "metadata": {},
   "outputs": [],
   "source": [
    "batch_size = conts.shape[0]\n",
    "test_size = int(batch_size * .2)\n",
    "\n",
    "cat_train = cats[:batch_size-test_size]\n",
    "cat_test = cats[batch_size-test_size:batch_size]\n",
    "con_train = conts[:batch_size-test_size]\n",
    "con_test = conts[batch_size-test_size:batch_size]\n",
    "y_train = labels[:batch_size-test_size]\n",
    "y_test = labels[batch_size-test_size:batch_size]"
   ]
  },
  {
   "cell_type": "code",
   "execution_count": 26,
   "metadata": {},
   "outputs": [
    {
     "data": {
      "text/plain": [
       "torch.Size([126095, 256])"
      ]
     },
     "execution_count": 26,
     "metadata": {},
     "output_type": "execute_result"
    }
   ],
   "source": [
    "con_train.shape"
   ]
  },
  {
   "attachments": {},
   "cell_type": "markdown",
   "metadata": {},
   "source": [
    "### Train model"
   ]
  },
  {
   "cell_type": "code",
   "execution_count": 27,
   "metadata": {},
   "outputs": [
    {
     "name": "stdout",
     "output_type": "stream",
     "text": [
      "epoch:   1  loss: 3.99527407\n",
      "epoch:  26  loss: 3.42042565\n",
      "epoch:  51  loss: 3.07258630\n",
      "epoch:  76  loss: 2.67432499\n",
      "epoch: 101  loss: 2.29724717\n",
      "epoch: 126  loss: 2.08775568\n",
      "epoch: 151  loss: 1.98708105\n",
      "epoch: 176  loss: 1.91374063\n",
      "epoch: 201  loss: 1.85513067\n",
      "epoch: 226  loss: 1.81236827\n",
      "epoch: 251  loss: 1.77801180\n",
      "epoch: 276  loss: 1.75235283\n",
      "epoch: 301  loss: 1.72746027\n",
      "epoch: 326  loss: 1.70683277\n",
      "epoch: 351  loss: 1.68594325\n",
      "epoch: 376  loss: 1.67064583\n",
      "epoch: 401  loss: 1.65741646\n",
      "epoch: 426  loss: 1.64645028\n",
      "epoch: 451  loss: 1.63461578\n",
      "epoch: 476  loss: 1.61951208\n",
      "epoch: 500  loss: 1.61280465\n",
      "\n",
      "Duration: 613 seconds\n"
     ]
    }
   ],
   "source": [
    "import time\n",
    "start_time = time.time()\n",
    "\n",
    "epochs = 500\n",
    "losses = []\n",
    "\n",
    "for i in range(epochs):\n",
    "    i+=1\n",
    "    y_pred = model(cat_train, con_train)\n",
    "    loss = torch.sqrt(loss_fn(y_pred, y_train)) # RMSE\n",
    "    losses.append(loss.item())\n",
    "    \n",
    "    # a neat trick to save screen space:\n",
    "    if i%25 == 1:\n",
    "        print(f'epoch: {i:3}  loss: {loss.item():10.8f}')\n",
    "\n",
    "    optimizer.zero_grad()\n",
    "    loss.backward()\n",
    "    optimizer.step()\n",
    "\n",
    "print(f'epoch: {i:3}  loss: {loss.item():10.8f}') # print the last line\n",
    "print(f'\\nDuration: {time.time() - start_time:.0f} seconds') # print the time elapsed"
   ]
  },
  {
   "attachments": {},
   "cell_type": "markdown",
   "metadata": {},
   "source": [
    "### Plot loss function"
   ]
  },
  {
   "cell_type": "code",
   "execution_count": 28,
   "metadata": {},
   "outputs": [
    {
     "data": {
      "text/plain": [
       "Text(0.5, 0, 'epoch')"
      ]
     },
     "execution_count": 28,
     "metadata": {},
     "output_type": "execute_result"
    },
    {
     "data": {
      "image/png": "[encoded data removed]",
      "text/plain": [
       "<Figure size 640x480 with 1 Axes>"
      ]
     },
     "metadata": {},
     "output_type": "display_data"
    }
   ],
   "source": [
    "plt.plot(range(epochs), losses)\n",
    "plt.ylabel('RMSE Loss')\n",
    "plt.xlabel('epoch')"
   ]
  },
  {
   "attachments": {},
   "cell_type": "markdown",
   "metadata": {},
   "source": [
    "### Validate Model"
   ]
  },
  {
   "cell_type": "code",
   "execution_count": 29,
   "metadata": {},
   "outputs": [
    {
     "name": "stdout",
     "output_type": "stream",
     "text": [
      "RMSE: 1.61999047\n"
     ]
    }
   ],
   "source": [
    "with torch.no_grad():\n",
    "    y_val = model(cat_test, con_test)\n",
    "    loss = torch.sqrt(loss_fn(y_val, y_test))\n",
    "print(f'RMSE: {loss:.8f}')"
   ]
  },
  {
   "cell_type": "code",
   "execution_count": 30,
   "metadata": {},
   "outputs": [
    {
     "name": "stdout",
     "output_type": "stream",
     "text": [
      "   PREDICTED   ACTUAL     DIFF\n",
      " 1.  -1.8097  -0.0142   1.7955\n",
      " 2.   3.9496   1.1932   2.7564\n",
      " 3.   4.4884   2.3768   2.1116\n",
      " 4.   4.8820   5.8819   0.9999\n",
      " 5.   1.8057   3.6806   1.8749\n",
      " 6.   2.5452   5.3496   2.8044\n",
      " 7.   4.2092   4.4454   0.2362\n",
      " 8.   3.6395   3.5117   0.1278\n",
      " 9.   2.4176  -0.0613   2.4790\n",
      "10.   0.8356   0.3543   0.4813\n",
      "11.   4.5686   4.5224   0.0463\n",
      "12.   4.8114   4.5157   0.2957\n",
      "13.   4.5604   6.0162   1.4558\n",
      "14.   4.9276   5.7954   0.8678\n",
      "15.   5.2811   4.7382   0.5429\n",
      "16.   0.6779  -0.0545   0.7324\n",
      "17.   3.5948   2.1559   1.4389\n",
      "18.  10.0052   8.0332   1.9719\n",
      "19.   4.4096   5.4961   1.0865\n",
      "20.   1.9432   4.7903   2.8472\n",
      "21.   2.4105  -0.1294   2.5399\n",
      "22.   2.4421   1.2184   1.2236\n",
      "23.  -0.8609   0.8689   1.7297\n",
      "24.   1.6690   1.0359   0.6331\n",
      "25.   1.4530   1.9203   0.4673\n",
      "26.   5.1484   4.8219   0.3265\n",
      "27.   3.2525   4.1070   0.8545\n",
      "28.   6.6869   7.2403   0.5534\n",
      "29.   1.9562   2.6463   0.6901\n",
      "30.   1.0827  -0.1525   1.2352\n",
      "31.   1.9069   2.1100   0.2031\n",
      "32.   4.1622   4.5645   0.4023\n",
      "33.   5.4355   4.2704   1.1651\n",
      "34.  -2.1521  -3.9058   1.7537\n",
      "35.   5.5460   5.1756   0.3704\n",
      "36.   2.5040   2.1703   0.3337\n",
      "37.   1.0874  -0.6538   1.7412\n",
      "38.   2.4039   4.6825   2.2787\n",
      "39.   9.5998  10.8128   1.2130\n",
      "40.   4.8705   2.9954   1.8752\n",
      "41.   3.3508   4.2600   0.9093\n",
      "42.  -0.5063  -0.6616   0.1553\n",
      "43.   3.8701   4.3597   0.4896\n",
      "44.   4.7090   2.9767   1.7323\n",
      "45.   2.3610   4.5672   2.2062\n",
      "46.  -2.6129  -1.4572   1.1557\n",
      "47.   4.4482   4.2126   0.2357\n",
      "48.   3.4649   4.1256   0.6607\n",
      "49.   3.6948   4.7705   1.0757\n",
      "50.   3.7852  -1.7158   5.5010\n",
      "51.   3.6792   5.4410   1.7618\n",
      "52.   4.0029   3.1801   0.8228\n",
      "53.   3.5297   4.5552   1.0254\n",
      "54.   1.7736   3.3735   1.5998\n",
      "55.   0.0787   0.2321   0.1534\n",
      "56.   3.9285   3.5578   0.3707\n",
      "57.   0.8621  -1.7567   2.6189\n",
      "58.   4.1337   4.8558   0.7221\n",
      "59.   1.5799  -0.2520   1.8320\n",
      "60.   2.7329   1.7567   0.9762\n",
      "61.   3.7562   7.2025   3.4463\n",
      "62.  -2.1110   0.7184   2.8294\n",
      "63.   0.9110  -0.4597   1.3707\n",
      "64.   0.3501  -1.0458   1.3958\n",
      "65.   2.3381   1.9478   0.3903\n",
      "66.  -1.3723   0.7425   2.1147\n",
      "67.   2.6860   2.0813   0.6047\n",
      "68.   3.3734   7.1752   3.8018\n",
      "69.   6.7948   4.6230   2.1718\n",
      "70.   5.1289   4.4904   0.6385\n",
      "71.   1.2509   0.9857   0.2652\n",
      "72.   3.9709   3.6313   0.3397\n",
      "73.   3.3593   3.1969   0.1624\n",
      "74.   5.1399   4.9916   0.1483\n",
      "75.   4.8694   6.4046   1.5353\n",
      "76.   4.0528   4.2312   0.1784\n",
      "77.   2.9019   2.0933   0.8086\n",
      "78.   6.4245   5.3901   1.0344\n",
      "79.   1.8269   1.8693   0.0424\n",
      "80.   0.2949   0.4460   0.1511\n",
      "81.  -2.9636  -2.2371   0.7265\n",
      "82.  -1.5238  -0.3685   1.1553\n",
      "83.   4.1443   2.3777   1.7666\n",
      "84.   3.2403   2.5200   0.7203\n",
      "85.   5.4262   6.4355   1.0093\n",
      "86.   3.5825   3.4798   0.1027\n",
      "87.  -4.6943  -5.6867   0.9924\n",
      "88.   1.9895   2.8142   0.8248\n",
      "89.   3.4408   5.4806   2.0398\n",
      "90.   2.4473   2.7529   0.3056\n",
      "91.   2.3657   2.5586   0.1928\n",
      "92.   3.5587   2.8840   0.6747\n",
      "93.  12.1971   9.0761   3.1210\n",
      "94.   4.5229   6.7056   2.1827\n",
      "95.   1.8622   1.4214   0.4408\n",
      "96.   4.3427   5.3591   1.0164\n",
      "97.   1.9417   2.1111   0.1694\n",
      "98.   4.7433   2.7930   1.9503\n",
      "99.   4.6219   4.5763   0.0455\n",
      "100.   2.7380   3.9726   1.2346\n"
     ]
    }
   ],
   "source": [
    "print(f'{\"PREDICTED\":>12} {\"ACTUAL\":>8} {\"DIFF\":>8}')\n",
    "for i in range(100):\n",
    "    diff = np.abs(y_val[i].item()-y_test[i].item())\n",
    "    print(f'{i+1:2}. {y_val[i].item():8.4f} {y_test[i].item():8.4f} {diff:8.4f}')"
   ]
  },
  {
   "cell_type": "code",
   "execution_count": null,
   "metadata": {},
   "outputs": [],
   "source": []
  },
  {
   "cell_type": "code",
   "execution_count": null,
   "metadata": {},
   "outputs": [],
   "source": []
  },
  {
   "cell_type": "code",
   "execution_count": null,
   "metadata": {},
   "outputs": [],
   "source": []
  },
  {
   "cell_type": "code",
   "execution_count": null,
   "metadata": {},
   "outputs": [],
   "source": []
  },
  {
   "cell_type": "code",
   "execution_count": null,
   "metadata": {},
   "outputs": [],
   "source": []
  },
  {
   "cell_type": "code",
   "execution_count": null,
   "metadata": {},
   "outputs": [],
   "source": []
  },
  {
   "cell_type": "code",
   "execution_count": null,
   "metadata": {},
   "outputs": [],
   "source": []
  },
  {
   "cell_type": "code",
   "execution_count": null,
   "metadata": {},
   "outputs": [],
   "source": []
  }
 ],
 "metadata": {
  "kernelspec": {
   "display_name": "fyp",
   "language": "python",
   "name": "python3"
  },
  "language_info": {
   "codemirror_mode": {
    "name": "ipython",
    "version": 3
   },
   "file_extension": ".py",
   "mimetype": "text/x-python",
   "name": "python",
   "nbconvert_exporter": "python",
   "pygments_lexer": "ipython3",
   "version": "3.9.16"
  },
  "orig_nbformat": 4
 },
 "nbformat": 4,
 "nbformat_minor": 2
}
