{
 "cells": [
  {
   "cell_type": "code",
   "execution_count": 1,
   "metadata": {},
   "outputs": [
    {
     "name": "stderr",
     "output_type": "stream",
     "text": [
      "c:\\Users\\mdzak\\anaconda3\\envs\\fyp\\lib\\site-packages\\tqdm\\auto.py:21: TqdmWarning: IProgress not found. Please update jupyter and ipywidgets. See https://ipywidgets.readthedocs.io/en/stable/user_install.html\n",
      "  from .autonotebook import tqdm as notebook_tqdm\n"
     ]
    }
   ],
   "source": [
    "import torch\n",
    "import torch.nn as nn\n",
    "import torch.nn.functional as F\n",
    "import numpy as np\n",
    "import torch\n",
    "import torchvision\n",
    "import torch.optim as optim\n",
    "import argparse\n",
    "import matplotlib\n",
    "import torch.nn as nn\n",
    "import matplotlib.pyplot as plt\n",
    "import torchvision.transforms as transforms\n",
    "from tqdm.notebook import tqdm\n",
    "from torchvision import datasets\n",
    "from torch.utils.data import DataLoader\n",
    "from torchvision.utils import save_image\n",
    "import pandas as pd\n",
    "import numpy as np\n",
    "matplotlib.style.use('ggplot')\n",
    "from sklearn.model_selection import train_test_split\n",
    "from sklearn.preprocessing import LabelEncoder\n",
    "from sklearn.preprocessing import MinMaxScaler\n",
    "from sklearn.model_selection import RepeatedKFold, cross_val_score\n",
    "from sklearn.model_selection import KFold\n",
    "import copy"
   ]
  },
  {
   "attachments": {},
   "cell_type": "markdown",
   "metadata": {},
   "source": [
    "### Import CSV and merge with drugs"
   ]
  },
  {
   "cell_type": "code",
   "execution_count": 2,
   "metadata": {},
   "outputs": [],
   "source": [
    "selected_dim = 512\n",
    "dimension = pd.read_csv('../results/results' + str(selected_dim) + 'D_latent_space_gene_exp.tsv',sep='\\t')\n",
    "cell_line_name = pd.read_csv('../results_clean/cell_line_name.csv')\n",
    "gdsc_drug = pd.read_csv('../results_clean/gdsc_drug_nodash.csv')\n",
    "dimension.drop(columns=['Unnamed: 0'], inplace=True)\n",
    "gdsc_drug.drop(columns=['Unnamed: 0'], inplace= True)\n",
    "dimension['CELL_LINE_NAME'] = cell_line_name['CELL_LINE_NAME']\n",
    "dimension_w_drug = pd.merge(dimension, gdsc_drug, on='CELL_LINE_NAME')\n",
    "dimension_w_drug.drop(columns=['CELL_LINE_NAME'],inplace=True)\n",
    "# dimension_w_drug = pd.get_dummies(dimension_w_drug, columns=['DRUG_NAME'])"
   ]
  },
  {
   "cell_type": "code",
   "execution_count": 3,
   "metadata": {},
   "outputs": [
    {
     "data": {
      "text/html": [
       "<div>\n",
       "<style scoped>\n",
       "    .dataframe tbody tr th:only-of-type {\n",
       "        vertical-align: middle;\n",
       "    }\n",
       "\n",
       "    .dataframe tbody tr th {\n",
       "        vertical-align: top;\n",
       "    }\n",
       "\n",
       "    .dataframe thead th {\n",
       "        text-align: right;\n",
       "    }\n",
       "</style>\n",
       "<table border=\"1\" class=\"dataframe\">\n",
       "  <thead>\n",
       "    <tr style=\"text-align: right;\">\n",
       "      <th></th>\n",
       "      <th>0</th>\n",
       "      <th>1</th>\n",
       "      <th>2</th>\n",
       "      <th>3</th>\n",
       "      <th>4</th>\n",
       "      <th>5</th>\n",
       "      <th>6</th>\n",
       "      <th>7</th>\n",
       "      <th>8</th>\n",
       "      <th>9</th>\n",
       "      <th>...</th>\n",
       "      <th>504</th>\n",
       "      <th>505</th>\n",
       "      <th>506</th>\n",
       "      <th>507</th>\n",
       "      <th>508</th>\n",
       "      <th>509</th>\n",
       "      <th>510</th>\n",
       "      <th>511</th>\n",
       "      <th>LN_IC50</th>\n",
       "      <th>DRUG_NAME</th>\n",
       "    </tr>\n",
       "  </thead>\n",
       "  <tbody>\n",
       "    <tr>\n",
       "      <th>0</th>\n",
       "      <td>-0.000051</td>\n",
       "      <td>-0.000019</td>\n",
       "      <td>-0.000011</td>\n",
       "      <td>0.000024</td>\n",
       "      <td>0.000007</td>\n",
       "      <td>-8.061088e-07</td>\n",
       "      <td>0.000007</td>\n",
       "      <td>-0.000022</td>\n",
       "      <td>-0.000001</td>\n",
       "      <td>-6.285769e-07</td>\n",
       "      <td>...</td>\n",
       "      <td>2.554270e-05</td>\n",
       "      <td>-0.000027</td>\n",
       "      <td>-0.000006</td>\n",
       "      <td>-0.000015</td>\n",
       "      <td>-0.000009</td>\n",
       "      <td>-2.313422e-09</td>\n",
       "      <td>-0.000030</td>\n",
       "      <td>-0.000006</td>\n",
       "      <td>2.686879</td>\n",
       "      <td>LGK974</td>\n",
       "    </tr>\n",
       "    <tr>\n",
       "      <th>1</th>\n",
       "      <td>0.000016</td>\n",
       "      <td>0.000019</td>\n",
       "      <td>0.000021</td>\n",
       "      <td>-0.000020</td>\n",
       "      <td>-0.000019</td>\n",
       "      <td>8.401084e-06</td>\n",
       "      <td>-0.000008</td>\n",
       "      <td>0.000007</td>\n",
       "      <td>0.000005</td>\n",
       "      <td>7.881104e-06</td>\n",
       "      <td>...</td>\n",
       "      <td>1.326165e-05</td>\n",
       "      <td>0.000016</td>\n",
       "      <td>0.000007</td>\n",
       "      <td>0.000022</td>\n",
       "      <td>-0.000011</td>\n",
       "      <td>5.558876e-06</td>\n",
       "      <td>-0.000009</td>\n",
       "      <td>0.000017</td>\n",
       "      <td>5.515893</td>\n",
       "      <td>5-azacytidine</td>\n",
       "    </tr>\n",
       "    <tr>\n",
       "      <th>2</th>\n",
       "      <td>0.000018</td>\n",
       "      <td>0.000013</td>\n",
       "      <td>0.000014</td>\n",
       "      <td>-0.000018</td>\n",
       "      <td>-0.000027</td>\n",
       "      <td>1.120291e-05</td>\n",
       "      <td>-0.000017</td>\n",
       "      <td>0.000010</td>\n",
       "      <td>-0.000017</td>\n",
       "      <td>1.261873e-05</td>\n",
       "      <td>...</td>\n",
       "      <td>8.616230e-06</td>\n",
       "      <td>0.000012</td>\n",
       "      <td>-0.000004</td>\n",
       "      <td>0.000008</td>\n",
       "      <td>-0.000029</td>\n",
       "      <td>6.588442e-06</td>\n",
       "      <td>-0.000015</td>\n",
       "      <td>0.000025</td>\n",
       "      <td>2.400499</td>\n",
       "      <td>Sorafenib</td>\n",
       "    </tr>\n",
       "    <tr>\n",
       "      <th>3</th>\n",
       "      <td>0.000025</td>\n",
       "      <td>0.000017</td>\n",
       "      <td>0.000019</td>\n",
       "      <td>-0.000018</td>\n",
       "      <td>-0.000007</td>\n",
       "      <td>2.656029e-06</td>\n",
       "      <td>-0.000001</td>\n",
       "      <td>0.000007</td>\n",
       "      <td>-0.000006</td>\n",
       "      <td>-3.416440e-07</td>\n",
       "      <td>...</td>\n",
       "      <td>1.610182e-05</td>\n",
       "      <td>0.000016</td>\n",
       "      <td>0.000001</td>\n",
       "      <td>0.000016</td>\n",
       "      <td>-0.000014</td>\n",
       "      <td>5.584157e-06</td>\n",
       "      <td>0.000001</td>\n",
       "      <td>0.000003</td>\n",
       "      <td>3.499021</td>\n",
       "      <td>PRT062607</td>\n",
       "    </tr>\n",
       "    <tr>\n",
       "      <th>4</th>\n",
       "      <td>0.000015</td>\n",
       "      <td>0.000011</td>\n",
       "      <td>0.000009</td>\n",
       "      <td>-0.000020</td>\n",
       "      <td>-0.000026</td>\n",
       "      <td>1.035570e-05</td>\n",
       "      <td>-0.000018</td>\n",
       "      <td>0.000009</td>\n",
       "      <td>-0.000029</td>\n",
       "      <td>1.117597e-05</td>\n",
       "      <td>...</td>\n",
       "      <td>6.395610e-06</td>\n",
       "      <td>0.000010</td>\n",
       "      <td>-0.000021</td>\n",
       "      <td>0.000006</td>\n",
       "      <td>-0.000021</td>\n",
       "      <td>9.252887e-06</td>\n",
       "      <td>-0.000016</td>\n",
       "      <td>0.000022</td>\n",
       "      <td>2.639762</td>\n",
       "      <td>AZD5438</td>\n",
       "    </tr>\n",
       "    <tr>\n",
       "      <th>...</th>\n",
       "      <td>...</td>\n",
       "      <td>...</td>\n",
       "      <td>...</td>\n",
       "      <td>...</td>\n",
       "      <td>...</td>\n",
       "      <td>...</td>\n",
       "      <td>...</td>\n",
       "      <td>...</td>\n",
       "      <td>...</td>\n",
       "      <td>...</td>\n",
       "      <td>...</td>\n",
       "      <td>...</td>\n",
       "      <td>...</td>\n",
       "      <td>...</td>\n",
       "      <td>...</td>\n",
       "      <td>...</td>\n",
       "      <td>...</td>\n",
       "      <td>...</td>\n",
       "      <td>...</td>\n",
       "      <td>...</td>\n",
       "      <td>...</td>\n",
       "    </tr>\n",
       "    <tr>\n",
       "      <th>157613</th>\n",
       "      <td>0.000021</td>\n",
       "      <td>0.000018</td>\n",
       "      <td>0.000020</td>\n",
       "      <td>-0.000017</td>\n",
       "      <td>-0.000013</td>\n",
       "      <td>4.705978e-06</td>\n",
       "      <td>-0.000004</td>\n",
       "      <td>0.000007</td>\n",
       "      <td>-0.000012</td>\n",
       "      <td>2.477079e-06</td>\n",
       "      <td>...</td>\n",
       "      <td>2.335720e-05</td>\n",
       "      <td>0.000016</td>\n",
       "      <td>-0.000009</td>\n",
       "      <td>0.000017</td>\n",
       "      <td>-0.000013</td>\n",
       "      <td>7.115398e-06</td>\n",
       "      <td>-0.000008</td>\n",
       "      <td>0.000007</td>\n",
       "      <td>2.482369</td>\n",
       "      <td>AGK2</td>\n",
       "    </tr>\n",
       "    <tr>\n",
       "      <th>157614</th>\n",
       "      <td>0.000010</td>\n",
       "      <td>0.000011</td>\n",
       "      <td>0.000013</td>\n",
       "      <td>-0.000023</td>\n",
       "      <td>-0.000008</td>\n",
       "      <td>5.049877e-06</td>\n",
       "      <td>-0.000003</td>\n",
       "      <td>0.000009</td>\n",
       "      <td>-0.000022</td>\n",
       "      <td>2.451690e-06</td>\n",
       "      <td>...</td>\n",
       "      <td>1.057978e-05</td>\n",
       "      <td>0.000010</td>\n",
       "      <td>-0.000002</td>\n",
       "      <td>0.000010</td>\n",
       "      <td>0.000011</td>\n",
       "      <td>8.473494e-06</td>\n",
       "      <td>-0.000012</td>\n",
       "      <td>0.000009</td>\n",
       "      <td>2.919147</td>\n",
       "      <td>Cisplatin</td>\n",
       "    </tr>\n",
       "    <tr>\n",
       "      <th>157615</th>\n",
       "      <td>0.000032</td>\n",
       "      <td>0.000021</td>\n",
       "      <td>0.000020</td>\n",
       "      <td>-0.000015</td>\n",
       "      <td>-0.000007</td>\n",
       "      <td>2.048283e-06</td>\n",
       "      <td>-0.000002</td>\n",
       "      <td>0.000009</td>\n",
       "      <td>0.000014</td>\n",
       "      <td>-2.901634e-07</td>\n",
       "      <td>...</td>\n",
       "      <td>1.027891e-05</td>\n",
       "      <td>0.000022</td>\n",
       "      <td>0.000006</td>\n",
       "      <td>0.000022</td>\n",
       "      <td>-0.000024</td>\n",
       "      <td>2.136412e-06</td>\n",
       "      <td>0.000014</td>\n",
       "      <td>0.000002</td>\n",
       "      <td>4.440038</td>\n",
       "      <td>Serdemetan</td>\n",
       "    </tr>\n",
       "    <tr>\n",
       "      <th>157616</th>\n",
       "      <td>0.000023</td>\n",
       "      <td>0.000011</td>\n",
       "      <td>0.000006</td>\n",
       "      <td>-0.000013</td>\n",
       "      <td>-0.000024</td>\n",
       "      <td>9.110397e-06</td>\n",
       "      <td>-0.000014</td>\n",
       "      <td>0.000012</td>\n",
       "      <td>-0.000014</td>\n",
       "      <td>1.102952e-05</td>\n",
       "      <td>...</td>\n",
       "      <td>-9.822003e-06</td>\n",
       "      <td>0.000010</td>\n",
       "      <td>0.000003</td>\n",
       "      <td>0.000003</td>\n",
       "      <td>-0.000027</td>\n",
       "      <td>1.096455e-06</td>\n",
       "      <td>-0.000004</td>\n",
       "      <td>0.000020</td>\n",
       "      <td>3.617427</td>\n",
       "      <td>ABT737</td>\n",
       "    </tr>\n",
       "    <tr>\n",
       "      <th>157617</th>\n",
       "      <td>0.000018</td>\n",
       "      <td>0.000011</td>\n",
       "      <td>0.000009</td>\n",
       "      <td>-0.000019</td>\n",
       "      <td>-0.000025</td>\n",
       "      <td>1.083595e-05</td>\n",
       "      <td>-0.000015</td>\n",
       "      <td>0.000009</td>\n",
       "      <td>-0.000020</td>\n",
       "      <td>1.195240e-05</td>\n",
       "      <td>...</td>\n",
       "      <td>1.853647e-07</td>\n",
       "      <td>0.000007</td>\n",
       "      <td>0.000003</td>\n",
       "      <td>0.000006</td>\n",
       "      <td>-0.000022</td>\n",
       "      <td>7.195494e-06</td>\n",
       "      <td>-0.000016</td>\n",
       "      <td>0.000023</td>\n",
       "      <td>4.505697</td>\n",
       "      <td>Mirin</td>\n",
       "    </tr>\n",
       "  </tbody>\n",
       "</table>\n",
       "<p>157618 rows × 514 columns</p>\n",
       "</div>"
      ],
      "text/plain": [
       "               0         1         2         3         4             5  \\\n",
       "0      -0.000051 -0.000019 -0.000011  0.000024  0.000007 -8.061088e-07   \n",
       "1       0.000016  0.000019  0.000021 -0.000020 -0.000019  8.401084e-06   \n",
       "2       0.000018  0.000013  0.000014 -0.000018 -0.000027  1.120291e-05   \n",
       "3       0.000025  0.000017  0.000019 -0.000018 -0.000007  2.656029e-06   \n",
       "4       0.000015  0.000011  0.000009 -0.000020 -0.000026  1.035570e-05   \n",
       "...          ...       ...       ...       ...       ...           ...   \n",
       "157613  0.000021  0.000018  0.000020 -0.000017 -0.000013  4.705978e-06   \n",
       "157614  0.000010  0.000011  0.000013 -0.000023 -0.000008  5.049877e-06   \n",
       "157615  0.000032  0.000021  0.000020 -0.000015 -0.000007  2.048283e-06   \n",
       "157616  0.000023  0.000011  0.000006 -0.000013 -0.000024  9.110397e-06   \n",
       "157617  0.000018  0.000011  0.000009 -0.000019 -0.000025  1.083595e-05   \n",
       "\n",
       "               6         7         8             9  ...           504  \\\n",
       "0       0.000007 -0.000022 -0.000001 -6.285769e-07  ...  2.554270e-05   \n",
       "1      -0.000008  0.000007  0.000005  7.881104e-06  ...  1.326165e-05   \n",
       "2      -0.000017  0.000010 -0.000017  1.261873e-05  ...  8.616230e-06   \n",
       "3      -0.000001  0.000007 -0.000006 -3.416440e-07  ...  1.610182e-05   \n",
       "4      -0.000018  0.000009 -0.000029  1.117597e-05  ...  6.395610e-06   \n",
       "...          ...       ...       ...           ...  ...           ...   \n",
       "157613 -0.000004  0.000007 -0.000012  2.477079e-06  ...  2.335720e-05   \n",
       "157614 -0.000003  0.000009 -0.000022  2.451690e-06  ...  1.057978e-05   \n",
       "157615 -0.000002  0.000009  0.000014 -2.901634e-07  ...  1.027891e-05   \n",
       "157616 -0.000014  0.000012 -0.000014  1.102952e-05  ... -9.822003e-06   \n",
       "157617 -0.000015  0.000009 -0.000020  1.195240e-05  ...  1.853647e-07   \n",
       "\n",
       "             505       506       507       508           509       510  \\\n",
       "0      -0.000027 -0.000006 -0.000015 -0.000009 -2.313422e-09 -0.000030   \n",
       "1       0.000016  0.000007  0.000022 -0.000011  5.558876e-06 -0.000009   \n",
       "2       0.000012 -0.000004  0.000008 -0.000029  6.588442e-06 -0.000015   \n",
       "3       0.000016  0.000001  0.000016 -0.000014  5.584157e-06  0.000001   \n",
       "4       0.000010 -0.000021  0.000006 -0.000021  9.252887e-06 -0.000016   \n",
       "...          ...       ...       ...       ...           ...       ...   \n",
       "157613  0.000016 -0.000009  0.000017 -0.000013  7.115398e-06 -0.000008   \n",
       "157614  0.000010 -0.000002  0.000010  0.000011  8.473494e-06 -0.000012   \n",
       "157615  0.000022  0.000006  0.000022 -0.000024  2.136412e-06  0.000014   \n",
       "157616  0.000010  0.000003  0.000003 -0.000027  1.096455e-06 -0.000004   \n",
       "157617  0.000007  0.000003  0.000006 -0.000022  7.195494e-06 -0.000016   \n",
       "\n",
       "             511   LN_IC50      DRUG_NAME  \n",
       "0      -0.000006  2.686879         LGK974  \n",
       "1       0.000017  5.515893  5-azacytidine  \n",
       "2       0.000025  2.400499      Sorafenib  \n",
       "3       0.000003  3.499021      PRT062607  \n",
       "4       0.000022  2.639762        AZD5438  \n",
       "...          ...       ...            ...  \n",
       "157613  0.000007  2.482369           AGK2  \n",
       "157614  0.000009  2.919147      Cisplatin  \n",
       "157615  0.000002  4.440038     Serdemetan  \n",
       "157616  0.000020  3.617427         ABT737  \n",
       "157617  0.000023  4.505697          Mirin  \n",
       "\n",
       "[157618 rows x 514 columns]"
      ]
     },
     "execution_count": 3,
     "metadata": {},
     "output_type": "execute_result"
    }
   ],
   "source": [
    "dimension_w_drug = dimension_w_drug.sample(frac=1, random_state=33).reset_index(drop=True)\n",
    "dimension_w_drug"
   ]
  },
  {
   "attachments": {},
   "cell_type": "markdown",
   "metadata": {},
   "source": [
    "### Seperate continuous and categorical columns"
   ]
  },
  {
   "cell_type": "code",
   "execution_count": 4,
   "metadata": {},
   "outputs": [],
   "source": [
    "cat_cols = ['DRUG_NAME']\n",
    "cont_cols = dimension_w_drug.drop(columns=['DRUG_NAME', 'LN_IC50']).columns\n",
    "label_cols = ['LN_IC50']"
   ]
  },
  {
   "cell_type": "code",
   "execution_count": 5,
   "metadata": {},
   "outputs": [
    {
     "data": {
      "text/plain": [
       "Index(['0', '1', '2', '3', '4', '5', '6', '7', '8', '9',\n",
       "       ...\n",
       "       '502', '503', '504', '505', '506', '507', '508', '509', '510', '511'],\n",
       "      dtype='object', length=512)"
      ]
     },
     "execution_count": 5,
     "metadata": {},
     "output_type": "execute_result"
    }
   ],
   "source": [
    "cont_cols"
   ]
  },
  {
   "cell_type": "code",
   "execution_count": 6,
   "metadata": {},
   "outputs": [
    {
     "data": {
      "text/plain": [
       "['DRUG_NAME']"
      ]
     },
     "execution_count": 6,
     "metadata": {},
     "output_type": "execute_result"
    }
   ],
   "source": [
    "cat_cols"
   ]
  },
  {
   "attachments": {},
   "cell_type": "markdown",
   "metadata": {},
   "source": [
    "### Categorify"
   ]
  },
  {
   "cell_type": "code",
   "execution_count": 7,
   "metadata": {},
   "outputs": [],
   "source": [
    "for cat in cat_cols:\n",
    "    dimension_w_drug[cat] = dimension_w_drug[cat].astype('category')"
   ]
  },
  {
   "cell_type": "code",
   "execution_count": 8,
   "metadata": {},
   "outputs": [
    {
     "data": {
      "text/plain": [
       "0             float64\n",
       "1             float64\n",
       "2             float64\n",
       "3             float64\n",
       "4             float64\n",
       "               ...   \n",
       "509           float64\n",
       "510           float64\n",
       "511           float64\n",
       "LN_IC50       float64\n",
       "DRUG_NAME    category\n",
       "Length: 514, dtype: object"
      ]
     },
     "execution_count": 8,
     "metadata": {},
     "output_type": "execute_result"
    }
   ],
   "source": [
    "dimension_w_drug.dtypes"
   ]
  },
  {
   "cell_type": "code",
   "execution_count": 9,
   "metadata": {},
   "outputs": [
    {
     "data": {
      "text/plain": [
       "0           LGK974\n",
       "1    5-azacytidine\n",
       "2        Sorafenib\n",
       "3        PRT062607\n",
       "4          AZD5438\n",
       "Name: DRUG_NAME, dtype: category\n",
       "Categories (286, object): ['123138', '123829', '150412', '5-Fluorouracil', ..., 'Zoledronate', 'alpha-lipoic acid', 'ascorbate (vitamin C)', 'glutathione']"
      ]
     },
     "execution_count": 9,
     "metadata": {},
     "output_type": "execute_result"
    }
   ],
   "source": [
    "dimension_w_drug['DRUG_NAME'].head()"
   ]
  },
  {
   "cell_type": "code",
   "execution_count": 10,
   "metadata": {},
   "outputs": [
    {
     "data": {
      "text/plain": [
       "Index(['123138', '123829', '150412', '5-Fluorouracil', '5-azacytidine',\n",
       "       '50869', '615590', '630600', '667880', '720427',\n",
       "       ...\n",
       "       'WZ4003', 'Wee1 Inhibitor', 'Wnt-C59', 'XAV939', 'YK-4-279', 'ZM447439',\n",
       "       'Zoledronate', 'alpha-lipoic acid', 'ascorbate (vitamin C)',\n",
       "       'glutathione'],\n",
       "      dtype='object', length=286)"
      ]
     },
     "execution_count": 10,
     "metadata": {},
     "output_type": "execute_result"
    }
   ],
   "source": [
    "dimension_w_drug['DRUG_NAME'].cat.categories"
   ]
  },
  {
   "cell_type": "code",
   "execution_count": 11,
   "metadata": {},
   "outputs": [],
   "source": [
    "drug_name = dimension_w_drug['DRUG_NAME'].cat.codes.values"
   ]
  },
  {
   "cell_type": "code",
   "execution_count": 12,
   "metadata": {},
   "outputs": [],
   "source": [
    "cats = np.stack([drug_name],1)\n",
    "cats = torch.tensor(cats, dtype=torch.int64)"
   ]
  },
  {
   "cell_type": "code",
   "execution_count": 13,
   "metadata": {},
   "outputs": [
    {
     "data": {
      "text/plain": [
       "tensor([[146],\n",
       "        [  4],\n",
       "        [237],\n",
       "        ...,\n",
       "        [235],\n",
       "        [ 16],\n",
       "        [168]])"
      ]
     },
     "execution_count": 13,
     "metadata": {},
     "output_type": "execute_result"
    }
   ],
   "source": [
    "cats"
   ]
  },
  {
   "attachments": {},
   "cell_type": "markdown",
   "metadata": {},
   "source": [
    "### Continuous variables to tensor"
   ]
  },
  {
   "cell_type": "code",
   "execution_count": 14,
   "metadata": {},
   "outputs": [
    {
     "data": {
      "text/plain": [
       "tensor([[-5.0791e-05, -1.8636e-05, -1.1005e-05,  ..., -2.3134e-09,\n",
       "         -2.9915e-05, -6.4728e-06],\n",
       "        [ 1.6457e-05,  1.9499e-05,  2.1097e-05,  ...,  5.5589e-06,\n",
       "         -9.2284e-06,  1.6989e-05],\n",
       "        [ 1.8066e-05,  1.3231e-05,  1.3796e-05,  ...,  6.5884e-06,\n",
       "         -1.5191e-05,  2.4550e-05],\n",
       "        ...,\n",
       "        [ 3.2346e-05,  2.0885e-05,  2.0004e-05,  ...,  2.1364e-06,\n",
       "          1.3795e-05,  1.9565e-06],\n",
       "        [ 2.2825e-05,  1.0897e-05,  6.3073e-06,  ...,  1.0965e-06,\n",
       "         -4.1473e-06,  2.0496e-05],\n",
       "        [ 1.8422e-05,  1.1132e-05,  9.2607e-06,  ...,  7.1955e-06,\n",
       "         -1.6441e-05,  2.3106e-05]])"
      ]
     },
     "execution_count": 14,
     "metadata": {},
     "output_type": "execute_result"
    }
   ],
   "source": [
    "conts = np.stack([dimension_w_drug[col].values for col in cont_cols], 1)\n",
    "conts = torch.tensor(conts, dtype=torch.float)\n",
    "conts"
   ]
  },
  {
   "attachments": {},
   "cell_type": "markdown",
   "metadata": {},
   "source": [
    "### Labels to tensor"
   ]
  },
  {
   "cell_type": "code",
   "execution_count": 15,
   "metadata": {},
   "outputs": [
    {
     "data": {
      "text/plain": [
       "tensor([[2.6869],\n",
       "        [5.5159],\n",
       "        [2.4005],\n",
       "        ...,\n",
       "        [4.4400],\n",
       "        [3.6174],\n",
       "        [4.5057]])"
      ]
     },
     "execution_count": 15,
     "metadata": {},
     "output_type": "execute_result"
    }
   ],
   "source": [
    "labels = np.stack([dimension_w_drug[col].values for col in label_cols], 1)\n",
    "labels = torch.tensor(labels, dtype=torch.float)\n",
    "labels"
   ]
  },
  {
   "attachments": {},
   "cell_type": "markdown",
   "metadata": {},
   "source": [
    "### Embedding size"
   ]
  },
  {
   "cell_type": "code",
   "execution_count": 16,
   "metadata": {},
   "outputs": [
    {
     "data": {
      "text/plain": [
       "[(286, 50)]"
      ]
     },
     "execution_count": 16,
     "metadata": {},
     "output_type": "execute_result"
    }
   ],
   "source": [
    "cat_szs = [len(dimension_w_drug[col].cat.categories) for col in cat_cols]\n",
    "emb_szs = [(size, min(50, (size+1)//2)) for size in cat_szs]\n",
    "emb_szs"
   ]
  },
  {
   "attachments": {},
   "cell_type": "markdown",
   "metadata": {},
   "source": [
    "### Define model"
   ]
  },
  {
   "cell_type": "code",
   "execution_count": 17,
   "metadata": {},
   "outputs": [],
   "source": [
    "class TabularModel(nn.Module):\n",
    "\n",
    "    def __init__(self, emb_szs, n_cont, out_sz, layers, p=0.5):\n",
    "        super().__init__()\n",
    "        self.embeds = nn.ModuleList([nn.Embedding(ni, nf) for ni,nf in emb_szs])\n",
    "        self.emb_drop = nn.Dropout(p)\n",
    "        self.bn_cont = nn.BatchNorm1d(n_cont)\n",
    "        \n",
    "        layerlist = []\n",
    "        n_emb = sum((nf for ni,nf in emb_szs))\n",
    "        n_in = n_emb + n_cont\n",
    "        \n",
    "        for i in layers:\n",
    "            layerlist.append(nn.Linear(n_in,i)) \n",
    "            layerlist.append(nn.ReLU(inplace=True))\n",
    "            layerlist.append(nn.BatchNorm1d(i))\n",
    "            layerlist.append(nn.Dropout(p))\n",
    "            n_in = i\n",
    "        layerlist.append(nn.Linear(layers[-1],out_sz))\n",
    "            \n",
    "        self.layers = nn.Sequential(*layerlist)\n",
    "    \n",
    "    def forward(self, x_cat, x_cont):\n",
    "        embeddings = []\n",
    "        for i,e in enumerate(self.embeds):\n",
    "            embeddings.append(e(x_cat[:,i]))\n",
    "        x = torch.cat(embeddings, 1)\n",
    "        x = self.emb_drop(x)\n",
    "        \n",
    "        x_cont = self.bn_cont(x_cont)\n",
    "        x = torch.cat([x, x_cont], 1)\n",
    "        x = self.layers(x)\n",
    "        return x"
   ]
  },
  {
   "cell_type": "code",
   "execution_count": 18,
   "metadata": {},
   "outputs": [],
   "source": [
    "torch.manual_seed(33)\n",
    "model = TabularModel(emb_szs, conts.shape[1], 1, [200,100], p=0.4)"
   ]
  },
  {
   "cell_type": "code",
   "execution_count": 19,
   "metadata": {},
   "outputs": [
    {
     "data": {
      "text/plain": [
       "TabularModel(\n",
       "  (embeds): ModuleList(\n",
       "    (0): Embedding(286, 50)\n",
       "  )\n",
       "  (emb_drop): Dropout(p=0.4, inplace=False)\n",
       "  (bn_cont): BatchNorm1d(512, eps=1e-05, momentum=0.1, affine=True, track_running_stats=True)\n",
       "  (layers): Sequential(\n",
       "    (0): Linear(in_features=562, out_features=200, bias=True)\n",
       "    (1): ReLU(inplace=True)\n",
       "    (2): BatchNorm1d(200, eps=1e-05, momentum=0.1, affine=True, track_running_stats=True)\n",
       "    (3): Dropout(p=0.4, inplace=False)\n",
       "    (4): Linear(in_features=200, out_features=100, bias=True)\n",
       "    (5): ReLU(inplace=True)\n",
       "    (6): BatchNorm1d(100, eps=1e-05, momentum=0.1, affine=True, track_running_stats=True)\n",
       "    (7): Dropout(p=0.4, inplace=False)\n",
       "    (8): Linear(in_features=100, out_features=1, bias=True)\n",
       "  )\n",
       ")"
      ]
     },
     "execution_count": 19,
     "metadata": {},
     "output_type": "execute_result"
    }
   ],
   "source": [
    "model"
   ]
  },
  {
   "attachments": {},
   "cell_type": "markdown",
   "metadata": {},
   "source": [
    "### Loss and Optimizer Function"
   ]
  },
  {
   "cell_type": "code",
   "execution_count": 20,
   "metadata": {},
   "outputs": [],
   "source": [
    "loss_fn = nn.MSELoss()\n",
    "optimizer = torch.optim.Adam(model.parameters(), lr=0.001)"
   ]
  },
  {
   "cell_type": "code",
   "execution_count": 21,
   "metadata": {},
   "outputs": [
    {
     "data": {
      "text/plain": [
       "'NVIDIA GeForce RTX 3060'"
      ]
     },
     "execution_count": 21,
     "metadata": {},
     "output_type": "execute_result"
    }
   ],
   "source": [
    "torch.cuda.get_device_name(0) # Get name device with ID '0'"
   ]
  },
  {
   "attachments": {},
   "cell_type": "markdown",
   "metadata": {},
   "source": [
    "### Perform train/test splits"
   ]
  },
  {
   "cell_type": "code",
   "execution_count": 22,
   "metadata": {},
   "outputs": [],
   "source": [
    "batch_size = conts.shape[0]\n",
    "test_size = int(batch_size * .2)\n",
    "\n",
    "cat_train = cats[:batch_size-test_size]\n",
    "cat_test = cats[batch_size-test_size:batch_size]\n",
    "con_train = conts[:batch_size-test_size]\n",
    "con_test = conts[batch_size-test_size:batch_size]\n",
    "y_train = labels[:batch_size-test_size]\n",
    "y_test = labels[batch_size-test_size:batch_size]"
   ]
  },
  {
   "cell_type": "code",
   "execution_count": 23,
   "metadata": {},
   "outputs": [
    {
     "data": {
      "text/plain": [
       "torch.Size([126095, 512])"
      ]
     },
     "execution_count": 23,
     "metadata": {},
     "output_type": "execute_result"
    }
   ],
   "source": [
    "con_train.shape"
   ]
  },
  {
   "cell_type": "code",
   "execution_count": 24,
   "metadata": {},
   "outputs": [
    {
     "data": {
      "text/plain": [
       "tensor([[-0.0142],\n",
       "        [ 1.1932],\n",
       "        [ 2.3768],\n",
       "        ...,\n",
       "        [ 4.4400],\n",
       "        [ 3.6174],\n",
       "        [ 4.5057]])"
      ]
     },
     "execution_count": 24,
     "metadata": {},
     "output_type": "execute_result"
    }
   ],
   "source": [
    "y_test"
   ]
  },
  {
   "cell_type": "code",
   "execution_count": 25,
   "metadata": {},
   "outputs": [
    {
     "data": {
      "text/plain": [
       "tensor([[ 2.6869],\n",
       "        [ 5.5159],\n",
       "        [ 2.4005],\n",
       "        ...,\n",
       "        [-1.4227],\n",
       "        [ 5.0628],\n",
       "        [-6.8808]])"
      ]
     },
     "execution_count": 25,
     "metadata": {},
     "output_type": "execute_result"
    }
   ],
   "source": [
    "y_train"
   ]
  },
  {
   "attachments": {},
   "cell_type": "markdown",
   "metadata": {},
   "source": [
    "### Train model"
   ]
  },
  {
   "cell_type": "code",
   "execution_count": 26,
   "metadata": {},
   "outputs": [
    {
     "name": "stdout",
     "output_type": "stream",
     "text": [
      "epoch:   1  loss: 4.13804913\n",
      "epoch:  26  loss: 3.54469013\n",
      "epoch:  51  loss: 3.21610308\n",
      "epoch:  76  loss: 2.81680274\n",
      "epoch: 101  loss: 2.38200808\n",
      "epoch: 126  loss: 2.11907411\n",
      "epoch: 151  loss: 1.99756217\n",
      "epoch: 176  loss: 1.92833459\n",
      "epoch: 201  loss: 1.86625612\n",
      "epoch: 226  loss: 1.82701492\n",
      "epoch: 251  loss: 1.78217566\n",
      "epoch: 276  loss: 1.75794542\n",
      "epoch: 301  loss: 1.72819138\n",
      "epoch: 326  loss: 1.70585978\n",
      "epoch: 351  loss: 1.69262433\n",
      "epoch: 376  loss: 1.66731358\n",
      "epoch: 401  loss: 1.65378308\n",
      "epoch: 426  loss: 1.64356422\n",
      "epoch: 451  loss: 1.62647772\n",
      "epoch: 476  loss: 1.61453819\n",
      "epoch: 500  loss: 1.60594273\n",
      "\n",
      "Duration: 815 seconds\n"
     ]
    }
   ],
   "source": [
    "import time\n",
    "start_time = time.time()\n",
    "\n",
    "epochs = 500\n",
    "losses = []\n",
    "\n",
    "for i in range(epochs):\n",
    "    i+=1\n",
    "    y_pred = model(cat_train, con_train)\n",
    "    loss = torch.sqrt(loss_fn(y_pred, y_train)) # RMSE\n",
    "    losses.append(loss.item())\n",
    "    \n",
    "    # a neat trick to save screen space:\n",
    "    if i%25 == 1:\n",
    "        print(f'epoch: {i:3}  loss: {loss.item():10.8f}')\n",
    "\n",
    "    optimizer.zero_grad()\n",
    "    loss.backward()\n",
    "    optimizer.step()\n",
    "\n",
    "print(f'epoch: {i:3}  loss: {loss.item():10.8f}') # print the last line\n",
    "print(f'\\nDuration: {time.time() - start_time:.0f} seconds') # print the time elapsed"
   ]
  },
  {
   "attachments": {},
   "cell_type": "markdown",
   "metadata": {},
   "source": [
    "### Plot loss function"
   ]
  },
  {
   "cell_type": "code",
   "execution_count": 28,
   "metadata": {},
   "outputs": [
    {
     "data": {
      "text/plain": [
       "Text(0.5, 0, 'epoch')"
      ]
     },
     "execution_count": 28,
     "metadata": {},
     "output_type": "execute_result"
    },
    {
     "data": {
      "image/png": "[encoded data removed]",
      "text/plain": [
       "<Figure size 640x480 with 1 Axes>"
      ]
     },
     "metadata": {},
     "output_type": "display_data"
    }
   ],
   "source": [
    "plt.plot(range(epochs), losses)\n",
    "plt.ylabel('RMSE Loss')\n",
    "plt.xlabel('epoch')"
   ]
  },
  {
   "attachments": {},
   "cell_type": "markdown",
   "metadata": {},
   "source": [
    "### Validate Model"
   ]
  },
  {
   "cell_type": "code",
   "execution_count": 29,
   "metadata": {},
   "outputs": [
    {
     "name": "stdout",
     "output_type": "stream",
     "text": [
      "RMSE: 1.61558342\n"
     ]
    }
   ],
   "source": [
    "with torch.no_grad():\n",
    "    y_val = model(cat_test, con_test)\n",
    "    loss = torch.sqrt(loss_fn(y_val, y_test))\n",
    "print(f'RMSE: {loss:.8f}')"
   ]
  },
  {
   "cell_type": "code",
   "execution_count": 30,
   "metadata": {},
   "outputs": [
    {
     "name": "stdout",
     "output_type": "stream",
     "text": [
      "   PREDICTED   ACTUAL     DIFF\n",
      " 1.  -1.3621  -0.0142   1.3479\n",
      " 2.   3.9591   1.1932   2.7659\n",
      " 3.   2.5397   2.3768   0.1629\n",
      " 4.   3.2378   5.8819   2.6441\n",
      " 5.   1.8799   3.6806   1.8007\n",
      " 6.   1.3854   5.3496   3.9642\n",
      " 7.   4.2476   4.4454   0.1978\n",
      " 8.   4.5166   3.5117   1.0049\n",
      " 9.   3.1318  -0.0613   3.1932\n",
      "10.  -0.8100   0.3543   1.1643\n",
      "11.   4.7666   4.5224   0.2443\n",
      "12.   3.4810   4.5157   1.0347\n",
      "13.   4.3719   6.0162   1.6443\n",
      "14.   4.2056   5.7954   1.5898\n",
      "15.   4.0625   4.7382   0.6757\n",
      "16.   1.9055  -0.0545   1.9599\n",
      "17.   3.1761   2.1559   1.0202\n",
      "18.   5.7775   8.0332   2.2557\n",
      "19.   4.6032   5.4961   0.8928\n",
      "20.   2.9093   4.7903   1.8810\n",
      "21.   2.0119  -0.1294   2.1413\n",
      "22.   3.1172   1.2184   1.8988\n",
      "23.   0.6565   0.8689   0.2124\n",
      "24.   1.6377   1.0359   0.6018\n",
      "25.   0.1964   1.9203   1.7239\n",
      "26.   5.3556   4.8219   0.5338\n",
      "27.   4.9289   4.1070   0.8219\n",
      "28.   4.7416   7.2403   2.4987\n",
      "29.   2.3612   2.6463   0.2852\n",
      "30.   0.9875  -0.1525   1.1400\n",
      "31.   2.0137   2.1100   0.0963\n",
      "32.   4.1847   4.5645   0.3798\n",
      "33.   4.7041   4.2704   0.4337\n",
      "34.  -2.7482  -3.9058   1.1576\n",
      "35.   4.4834   5.1756   0.6921\n",
      "36.   3.3364   2.1703   1.1662\n",
      "37.  -0.2008  -0.6538   0.4530\n",
      "38.   2.2511   4.6825   2.4315\n",
      "39.  10.4590  10.8128   0.3539\n",
      "40.   4.7127   2.9954   1.7173\n",
      "41.   4.0642   4.2600   0.1958\n",
      "42.   1.0166  -0.6616   1.6782\n",
      "43.   3.0469   4.3597   1.3128\n",
      "44.   4.2804   2.9767   1.3038\n",
      "45.   3.1941   4.5672   1.3731\n",
      "46.  -1.5138  -1.4572   0.0566\n",
      "47.   4.9554   4.2126   0.7428\n",
      "48.   4.0686   4.1256   0.0570\n",
      "49.   2.8462   4.7705   1.9243\n",
      "50.   3.7950  -1.7158   5.5108\n",
      "51.   4.0926   5.4410   1.3483\n",
      "52.   2.5415   3.1801   0.6385\n",
      "53.   2.6451   4.5552   1.9101\n",
      "54.   3.0283   3.3735   0.3452\n",
      "55.   0.0558   0.2321   0.1763\n",
      "56.   3.7809   3.5578   0.2232\n",
      "57.   2.0940  -1.7567   3.8507\n",
      "58.   3.7087   4.8558   1.1471\n",
      "59.  -0.5964  -0.2520   0.3444\n",
      "60.   2.1537   1.7567   0.3970\n",
      "61.   3.2001   7.2025   4.0024\n",
      "62.  -1.6318   0.7184   2.3502\n",
      "63.   0.8458  -0.4597   1.3055\n",
      "64.  -0.6156  -1.0458   0.4302\n",
      "65.   2.8119   1.9478   0.8641\n",
      "66.  -1.0856   0.7425   1.8281\n",
      "67.   2.2745   2.0813   0.1932\n",
      "68.   4.4049   7.1752   2.7703\n",
      "69.   4.2903   4.6230   0.3327\n",
      "70.   4.6710   4.4904   0.1806\n",
      "71.   0.7856   0.9857   0.2001\n",
      "72.   3.4852   3.6313   0.1461\n",
      "73.   3.8250   3.1969   0.6281\n",
      "74.   4.4312   4.9916   0.5604\n",
      "75.   4.8221   6.4046   1.5825\n",
      "76.   3.2274   4.2312   1.0038\n",
      "77.   1.2315   2.0933   0.8618\n",
      "78.   3.8023   5.3901   1.5878\n",
      "79.   3.0650   1.8693   1.1957\n",
      "80.  -0.5356   0.4460   0.9816\n",
      "81.  -0.9880  -2.2371   1.2491\n",
      "82.   1.0025  -0.3685   1.3710\n",
      "83.   2.6862   2.3777   0.3085\n",
      "84.   3.3985   2.5200   0.8785\n",
      "85.   5.4373   6.4355   0.9982\n",
      "86.   2.4540   3.4798   1.0258\n",
      "87.  -5.3361  -5.6867   0.3506\n",
      "88.   2.4655   2.8142   0.3487\n",
      "89.   2.7357   5.4806   2.7449\n",
      "90.   2.6980   2.7529   0.0549\n",
      "91.   2.9853   2.5586   0.4268\n",
      "92.   2.6091   2.8840   0.2748\n",
      "93.  10.5516   9.0761   1.4755\n",
      "94.   3.4621   6.7056   3.2435\n",
      "95.   1.1292   1.4214   0.2922\n",
      "96.   4.6274   5.3591   0.7318\n",
      "97.   2.8601   2.1111   0.7489\n",
      "98.   4.0044   2.7930   1.2114\n",
      "99.   4.4146   4.5763   0.1617\n",
      "100.   2.1556   3.9726   1.8170\n"
     ]
    }
   ],
   "source": [
    "print(f'{\"PREDICTED\":>12} {\"ACTUAL\":>8} {\"DIFF\":>8}')\n",
    "for i in range(100):\n",
    "    diff = np.abs(y_val[i].item()-y_test[i].item())\n",
    "    print(f'{i+1:2}. {y_val[i].item():8.4f} {y_test[i].item():8.4f} {diff:8.4f}')"
   ]
  },
  {
   "cell_type": "code",
   "execution_count": null,
   "metadata": {},
   "outputs": [],
   "source": []
  },
  {
   "cell_type": "code",
   "execution_count": null,
   "metadata": {},
   "outputs": [],
   "source": []
  },
  {
   "cell_type": "code",
   "execution_count": null,
   "metadata": {},
   "outputs": [],
   "source": []
  },
  {
   "cell_type": "code",
   "execution_count": null,
   "metadata": {},
   "outputs": [],
   "source": []
  },
  {
   "cell_type": "code",
   "execution_count": null,
   "metadata": {},
   "outputs": [],
   "source": []
  },
  {
   "cell_type": "code",
   "execution_count": null,
   "metadata": {},
   "outputs": [],
   "source": []
  },
  {
   "cell_type": "code",
   "execution_count": null,
   "metadata": {},
   "outputs": [],
   "source": []
  },
  {
   "cell_type": "code",
   "execution_count": null,
   "metadata": {},
   "outputs": [],
   "source": []
  }
 ],
 "metadata": {
  "kernelspec": {
   "display_name": "fyp",
   "language": "python",
   "name": "python3"
  },
  "language_info": {
   "codemirror_mode": {
    "name": "ipython",
    "version": 3
   },
   "file_extension": ".py",
   "mimetype": "text/x-python",
   "name": "python",
   "nbconvert_exporter": "python",
   "pygments_lexer": "ipython3",
   "version": "3.9.16"
  },
  "orig_nbformat": 4
 },
 "nbformat": 4,
 "nbformat_minor": 2
}
