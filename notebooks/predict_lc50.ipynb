{
 "cells": [
  {
   "cell_type": "code",
   "execution_count": 1,
   "metadata": {},
   "outputs": [],
   "source": [
    "import pandas as pd\n",
    "from sklearn.preprocessing import LabelEncoder"
   ]
  },
  {
   "attachments": {},
   "cell_type": "markdown",
   "metadata": {},
   "source": [
    "### Predictor for 128 Dimension"
   ]
  },
  {
   "cell_type": "code",
   "execution_count": 2,
   "metadata": {},
   "outputs": [
    {
     "name": "stdout",
     "output_type": "stream",
     "text": [
      "Mean MAE: 0.955 (0.003)\n"
     ]
    }
   ],
   "source": [
    "d128 = pd.read_csv('../data_for_pred/d128_with_drug.csv')\n",
    "d128.drop(columns='Unnamed: 0',inplace=True)\n",
    "label_encoder = LabelEncoder()\n",
    "d128['DRUG_NAME'] = label_encoder.fit_transform(d128['DRUG_NAME'].astype(str))\n",
    "import xgboost as xgb\n",
    "model = xgb.XGBRegressor()\n",
    "y = d128['LN_IC50']\n",
    "X = d128.drop(columns=['CELL_LINE_NAME', 'LN_IC50'])\n",
    "from sklearn.model_selection import RepeatedKFold, cross_val_score\n",
    "cv = RepeatedKFold(n_splits=5, n_repeats=1, random_state=1)\n",
    "scores = cross_val_score(model, X, y, scoring='neg_mean_absolute_error', cv=cv, n_jobs=-1)\n",
    "scores = abs(scores)\n",
    "print('Mean MAE: %.3f (%.3f)' % (scores.mean(), scores.std()))"
   ]
  },
  {
   "attachments": {},
   "cell_type": "markdown",
   "metadata": {},
   "source": [
    "### Predictor for 256 Dimension"
   ]
  },
  {
   "cell_type": "code",
   "execution_count": 3,
   "metadata": {},
   "outputs": [
    {
     "name": "stdout",
     "output_type": "stream",
     "text": [
      "Mean MAE: 0.958 (0.007)\n"
     ]
    }
   ],
   "source": [
    "d256 = pd.read_csv('../data_for_pred/d256_with_drug.csv')\n",
    "d256.drop(columns='Unnamed: 0',inplace=True)\n",
    "d256['DRUG_NAME'] = label_encoder.fit_transform(d256['DRUG_NAME'].astype(str))\n",
    "model = xgb.XGBRegressor()\n",
    "y = d256['LN_IC50']\n",
    "X = d256.drop(columns=['CELL_LINE_NAME', 'LN_IC50'])\n",
    "cv = RepeatedKFold(n_splits=5, n_repeats=1, random_state=1)\n",
    "scores = cross_val_score(model, X, y, scoring='neg_mean_absolute_error', cv=cv, n_jobs=-1)\n",
    "scores = abs(scores)\n",
    "print('Mean MAE: %.3f (%.3f)' % (scores.mean(), scores.std()))"
   ]
  },
  {
   "attachments": {},
   "cell_type": "markdown",
   "metadata": {},
   "source": [
    "### Predictor for 512 dimension"
   ]
  },
  {
   "cell_type": "code",
   "execution_count": 4,
   "metadata": {},
   "outputs": [
    {
     "name": "stdout",
     "output_type": "stream",
     "text": [
      "Mean MAE: 0.952 (0.005)\n"
     ]
    }
   ],
   "source": [
    "d512 = pd.read_csv('../data_for_pred/d512_with_drug.csv')\n",
    "d512.drop(columns='Unnamed: 0',inplace=True)\n",
    "d512['DRUG_NAME'] = label_encoder.fit_transform(d512['DRUG_NAME'].astype(str))\n",
    "model = xgb.XGBRegressor()\n",
    "y = d512['LN_IC50']\n",
    "X = d512.drop(columns=['CELL_LINE_NAME', 'LN_IC50'])\n",
    "cv = RepeatedKFold(n_splits=5, n_repeats=1, random_state=1)\n",
    "scores = cross_val_score(model, X, y, scoring='neg_mean_absolute_error', cv=cv, n_jobs=-1)\n",
    "scores = abs(scores)\n",
    "print('Mean MAE: %.3f (%.3f)' % (scores.mean(), scores.std()))"
   ]
  },
  {
   "attachments": {},
   "cell_type": "markdown",
   "metadata": {},
   "source": [
    "### Predictor for 1024 dimension"
   ]
  },
  {
   "cell_type": "code",
   "execution_count": 5,
   "metadata": {},
   "outputs": [
    {
     "name": "stdout",
     "output_type": "stream",
     "text": [
      "Mean MAE: 0.941 (0.004)\n"
     ]
    }
   ],
   "source": [
    "d1024 = pd.read_csv('../data_for_pred/d1024_with_drug.csv')\n",
    "d1024.drop(columns='Unnamed: 0',inplace=True)\n",
    "d1024['DRUG_NAME'] = label_encoder.fit_transform(d1024['DRUG_NAME'].astype(str))\n",
    "model = xgb.XGBRegressor()\n",
    "y = d1024['LN_IC50']\n",
    "X = d1024.drop(columns=['CELL_LINE_NAME', 'LN_IC50'])\n",
    "cv = RepeatedKFold(n_splits=5, n_repeats=1, random_state=1)\n",
    "scores = cross_val_score(model, X, y, scoring='neg_mean_absolute_error', cv=cv, n_jobs=-1)\n",
    "scores = abs(scores)\n",
    "print('Mean MAE: %.3f (%.3f)' % (scores.mean(), scores.std()))"
   ]
  }
 ],
 "metadata": {
  "kernelspec": {
   "display_name": "fyp",
   "language": "python",
   "name": "python3"
  },
  "language_info": {
   "codemirror_mode": {
    "name": "ipython",
    "version": 3
   },
   "file_extension": ".py",
   "mimetype": "text/x-python",
   "name": "python",
   "nbconvert_exporter": "python",
   "pygments_lexer": "ipython3",
   "version": "3.9.16"
  },
  "orig_nbformat": 4
 },
 "nbformat": 4,
 "nbformat_minor": 2
}
