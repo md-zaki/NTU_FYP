{
 "cells": [
  {
   "cell_type": "code",
   "execution_count": 1,
   "metadata": {},
   "outputs": [
    {
     "name": "stderr",
     "output_type": "stream",
     "text": [
      "c:\\Users\\mdzak\\anaconda3\\envs\\fyp\\lib\\site-packages\\tqdm\\auto.py:21: TqdmWarning: IProgress not found. Please update jupyter and ipywidgets. See https://ipywidgets.readthedocs.io/en/stable/user_install.html\n",
      "  from .autonotebook import tqdm as notebook_tqdm\n"
     ]
    }
   ],
   "source": [
    "import torch\n",
    "import torch.nn as nn\n",
    "import torch.nn.functional as F\n",
    "import numpy as np\n",
    "import torch\n",
    "import torchvision\n",
    "import torch.optim as optim\n",
    "import argparse\n",
    "import matplotlib\n",
    "import torch.nn as nn\n",
    "import matplotlib.pyplot as plt\n",
    "import torchvision.transforms as transforms\n",
    "from tqdm.notebook import tqdm\n",
    "from torchvision import datasets\n",
    "from torch.utils.data import DataLoader\n",
    "from torchvision.utils import save_image\n",
    "import pandas as pd\n",
    "import numpy as np\n",
    "matplotlib.style.use('ggplot')\n",
    "from sklearn.model_selection import train_test_split\n",
    "from sklearn.preprocessing import LabelEncoder\n",
    "from sklearn.preprocessing import MinMaxScaler\n",
    "from sklearn.model_selection import RepeatedKFold, cross_val_score\n",
    "from sklearn.model_selection import KFold\n",
    "import copy"
   ]
  },
  {
   "attachments": {},
   "cell_type": "markdown",
   "metadata": {},
   "source": [
    "### Import CSV and merge with drugs"
   ]
  },
  {
   "cell_type": "code",
   "execution_count": 2,
   "metadata": {},
   "outputs": [],
   "source": [
    "selected_dim = 1024\n",
    "dimension = pd.read_csv('../results/results' + str(selected_dim) + 'D_latent_space_gene_exp.tsv',sep='\\t')\n",
    "cell_line_name = pd.read_csv('../results_clean/cell_line_name.csv')\n",
    "gdsc_drug = pd.read_csv('../results_clean/gdsc_drug_nodash.csv')\n",
    "dimension.drop(columns=['Unnamed: 0'], inplace=True)\n",
    "gdsc_drug.drop(columns=['Unnamed: 0'], inplace= True)\n",
    "dimension['CELL_LINE_NAME'] = cell_line_name['CELL_LINE_NAME']\n",
    "dimension_w_drug = pd.merge(dimension, gdsc_drug, on='CELL_LINE_NAME')\n",
    "dimension_w_drug.drop(columns=['CELL_LINE_NAME'],inplace=True)\n",
    "# dimension_w_drug = pd.get_dummies(dimension_w_drug, columns=['DRUG_NAME'])"
   ]
  },
  {
   "cell_type": "code",
   "execution_count": 3,
   "metadata": {},
   "outputs": [
    {
     "data": {
      "text/html": [
       "<div>\n",
       "<style scoped>\n",
       "    .dataframe tbody tr th:only-of-type {\n",
       "        vertical-align: middle;\n",
       "    }\n",
       "\n",
       "    .dataframe tbody tr th {\n",
       "        vertical-align: top;\n",
       "    }\n",
       "\n",
       "    .dataframe thead th {\n",
       "        text-align: right;\n",
       "    }\n",
       "</style>\n",
       "<table border=\"1\" class=\"dataframe\">\n",
       "  <thead>\n",
       "    <tr style=\"text-align: right;\">\n",
       "      <th></th>\n",
       "      <th>0</th>\n",
       "      <th>1</th>\n",
       "      <th>2</th>\n",
       "      <th>3</th>\n",
       "      <th>4</th>\n",
       "      <th>5</th>\n",
       "      <th>6</th>\n",
       "      <th>7</th>\n",
       "      <th>8</th>\n",
       "      <th>9</th>\n",
       "      <th>...</th>\n",
       "      <th>1016</th>\n",
       "      <th>1017</th>\n",
       "      <th>1018</th>\n",
       "      <th>1019</th>\n",
       "      <th>1020</th>\n",
       "      <th>1021</th>\n",
       "      <th>1022</th>\n",
       "      <th>1023</th>\n",
       "      <th>LN_IC50</th>\n",
       "      <th>DRUG_NAME</th>\n",
       "    </tr>\n",
       "  </thead>\n",
       "  <tbody>\n",
       "    <tr>\n",
       "      <th>0</th>\n",
       "      <td>0.000003</td>\n",
       "      <td>-0.000005</td>\n",
       "      <td>-0.000004</td>\n",
       "      <td>-0.000004</td>\n",
       "      <td>-1.947630e-06</td>\n",
       "      <td>-0.000007</td>\n",
       "      <td>0.000004</td>\n",
       "      <td>0.000005</td>\n",
       "      <td>-0.000008</td>\n",
       "      <td>0.000006</td>\n",
       "      <td>...</td>\n",
       "      <td>-0.000008</td>\n",
       "      <td>8.596951e-06</td>\n",
       "      <td>-0.000004</td>\n",
       "      <td>0.000007</td>\n",
       "      <td>-0.000006</td>\n",
       "      <td>1.384662e-06</td>\n",
       "      <td>-0.000009</td>\n",
       "      <td>-7.559261e-07</td>\n",
       "      <td>2.686879</td>\n",
       "      <td>LGK974</td>\n",
       "    </tr>\n",
       "    <tr>\n",
       "      <th>1</th>\n",
       "      <td>-0.000005</td>\n",
       "      <td>0.000006</td>\n",
       "      <td>0.000006</td>\n",
       "      <td>0.000006</td>\n",
       "      <td>3.244916e-06</td>\n",
       "      <td>0.000006</td>\n",
       "      <td>-0.000008</td>\n",
       "      <td>-0.000007</td>\n",
       "      <td>0.000009</td>\n",
       "      <td>-0.000007</td>\n",
       "      <td>...</td>\n",
       "      <td>0.000006</td>\n",
       "      <td>-5.632875e-06</td>\n",
       "      <td>0.000003</td>\n",
       "      <td>-0.000008</td>\n",
       "      <td>0.000006</td>\n",
       "      <td>3.438464e-06</td>\n",
       "      <td>-0.000010</td>\n",
       "      <td>4.930011e-06</td>\n",
       "      <td>5.515893</td>\n",
       "      <td>5-azacytidine</td>\n",
       "    </tr>\n",
       "    <tr>\n",
       "      <th>2</th>\n",
       "      <td>-0.000003</td>\n",
       "      <td>0.000008</td>\n",
       "      <td>0.000009</td>\n",
       "      <td>0.000009</td>\n",
       "      <td>1.274196e-05</td>\n",
       "      <td>0.000009</td>\n",
       "      <td>-0.000005</td>\n",
       "      <td>-0.000008</td>\n",
       "      <td>0.000009</td>\n",
       "      <td>-0.000008</td>\n",
       "      <td>...</td>\n",
       "      <td>0.000008</td>\n",
       "      <td>-7.977654e-06</td>\n",
       "      <td>0.000004</td>\n",
       "      <td>-0.000010</td>\n",
       "      <td>0.000008</td>\n",
       "      <td>1.155247e-05</td>\n",
       "      <td>-0.000020</td>\n",
       "      <td>1.835189e-05</td>\n",
       "      <td>2.400499</td>\n",
       "      <td>Sorafenib</td>\n",
       "    </tr>\n",
       "    <tr>\n",
       "      <th>3</th>\n",
       "      <td>-0.000003</td>\n",
       "      <td>0.000004</td>\n",
       "      <td>0.000005</td>\n",
       "      <td>0.000003</td>\n",
       "      <td>-5.588725e-07</td>\n",
       "      <td>0.000004</td>\n",
       "      <td>-0.000008</td>\n",
       "      <td>-0.000005</td>\n",
       "      <td>0.000007</td>\n",
       "      <td>-0.000005</td>\n",
       "      <td>...</td>\n",
       "      <td>0.000003</td>\n",
       "      <td>-4.927579e-07</td>\n",
       "      <td>0.000003</td>\n",
       "      <td>-0.000006</td>\n",
       "      <td>0.000004</td>\n",
       "      <td>-6.613679e-07</td>\n",
       "      <td>0.000002</td>\n",
       "      <td>-1.228852e-05</td>\n",
       "      <td>3.499021</td>\n",
       "      <td>PRT062607</td>\n",
       "    </tr>\n",
       "    <tr>\n",
       "      <th>4</th>\n",
       "      <td>-0.000007</td>\n",
       "      <td>0.000011</td>\n",
       "      <td>0.000012</td>\n",
       "      <td>0.000010</td>\n",
       "      <td>1.201331e-05</td>\n",
       "      <td>0.000011</td>\n",
       "      <td>-0.000009</td>\n",
       "      <td>-0.000010</td>\n",
       "      <td>0.000014</td>\n",
       "      <td>-0.000011</td>\n",
       "      <td>...</td>\n",
       "      <td>0.000011</td>\n",
       "      <td>-1.074133e-05</td>\n",
       "      <td>0.000011</td>\n",
       "      <td>-0.000013</td>\n",
       "      <td>0.000010</td>\n",
       "      <td>9.274476e-06</td>\n",
       "      <td>-0.000015</td>\n",
       "      <td>1.606120e-05</td>\n",
       "      <td>2.639762</td>\n",
       "      <td>AZD5438</td>\n",
       "    </tr>\n",
       "    <tr>\n",
       "      <th>...</th>\n",
       "      <td>...</td>\n",
       "      <td>...</td>\n",
       "      <td>...</td>\n",
       "      <td>...</td>\n",
       "      <td>...</td>\n",
       "      <td>...</td>\n",
       "      <td>...</td>\n",
       "      <td>...</td>\n",
       "      <td>...</td>\n",
       "      <td>...</td>\n",
       "      <td>...</td>\n",
       "      <td>...</td>\n",
       "      <td>...</td>\n",
       "      <td>...</td>\n",
       "      <td>...</td>\n",
       "      <td>...</td>\n",
       "      <td>...</td>\n",
       "      <td>...</td>\n",
       "      <td>...</td>\n",
       "      <td>...</td>\n",
       "      <td>...</td>\n",
       "    </tr>\n",
       "    <tr>\n",
       "      <th>157613</th>\n",
       "      <td>-0.000007</td>\n",
       "      <td>0.000008</td>\n",
       "      <td>0.000008</td>\n",
       "      <td>0.000008</td>\n",
       "      <td>8.162905e-06</td>\n",
       "      <td>0.000009</td>\n",
       "      <td>-0.000010</td>\n",
       "      <td>-0.000008</td>\n",
       "      <td>0.000013</td>\n",
       "      <td>-0.000008</td>\n",
       "      <td>...</td>\n",
       "      <td>0.000009</td>\n",
       "      <td>-7.332826e-06</td>\n",
       "      <td>0.000006</td>\n",
       "      <td>-0.000010</td>\n",
       "      <td>0.000009</td>\n",
       "      <td>2.017715e-05</td>\n",
       "      <td>-0.000010</td>\n",
       "      <td>4.866277e-06</td>\n",
       "      <td>2.482369</td>\n",
       "      <td>AGK2</td>\n",
       "    </tr>\n",
       "    <tr>\n",
       "      <th>157614</th>\n",
       "      <td>-0.000003</td>\n",
       "      <td>0.000005</td>\n",
       "      <td>0.000003</td>\n",
       "      <td>0.000004</td>\n",
       "      <td>-5.281099e-07</td>\n",
       "      <td>0.000003</td>\n",
       "      <td>-0.000007</td>\n",
       "      <td>-0.000005</td>\n",
       "      <td>0.000007</td>\n",
       "      <td>-0.000005</td>\n",
       "      <td>...</td>\n",
       "      <td>0.000004</td>\n",
       "      <td>-2.925420e-06</td>\n",
       "      <td>0.000004</td>\n",
       "      <td>-0.000005</td>\n",
       "      <td>0.000005</td>\n",
       "      <td>4.455080e-06</td>\n",
       "      <td>-0.000010</td>\n",
       "      <td>-1.907468e-06</td>\n",
       "      <td>2.919147</td>\n",
       "      <td>Cisplatin</td>\n",
       "    </tr>\n",
       "    <tr>\n",
       "      <th>157615</th>\n",
       "      <td>-0.000006</td>\n",
       "      <td>0.000008</td>\n",
       "      <td>0.000007</td>\n",
       "      <td>0.000008</td>\n",
       "      <td>5.563005e-06</td>\n",
       "      <td>0.000008</td>\n",
       "      <td>-0.000009</td>\n",
       "      <td>-0.000008</td>\n",
       "      <td>0.000011</td>\n",
       "      <td>-0.000008</td>\n",
       "      <td>...</td>\n",
       "      <td>0.000008</td>\n",
       "      <td>-8.932820e-06</td>\n",
       "      <td>0.000005</td>\n",
       "      <td>-0.000009</td>\n",
       "      <td>0.000008</td>\n",
       "      <td>1.004996e-05</td>\n",
       "      <td>-0.000013</td>\n",
       "      <td>1.334167e-05</td>\n",
       "      <td>4.440038</td>\n",
       "      <td>Serdemetan</td>\n",
       "    </tr>\n",
       "    <tr>\n",
       "      <th>157616</th>\n",
       "      <td>-0.000003</td>\n",
       "      <td>0.000007</td>\n",
       "      <td>0.000007</td>\n",
       "      <td>0.000009</td>\n",
       "      <td>1.268423e-05</td>\n",
       "      <td>0.000008</td>\n",
       "      <td>-0.000004</td>\n",
       "      <td>-0.000007</td>\n",
       "      <td>0.000008</td>\n",
       "      <td>-0.000007</td>\n",
       "      <td>...</td>\n",
       "      <td>0.000007</td>\n",
       "      <td>-7.991030e-06</td>\n",
       "      <td>0.000003</td>\n",
       "      <td>-0.000008</td>\n",
       "      <td>0.000007</td>\n",
       "      <td>8.460090e-06</td>\n",
       "      <td>-0.000029</td>\n",
       "      <td>1.755648e-05</td>\n",
       "      <td>3.617427</td>\n",
       "      <td>ABT737</td>\n",
       "    </tr>\n",
       "    <tr>\n",
       "      <th>157617</th>\n",
       "      <td>-0.000006</td>\n",
       "      <td>0.000009</td>\n",
       "      <td>0.000011</td>\n",
       "      <td>0.000010</td>\n",
       "      <td>1.257368e-05</td>\n",
       "      <td>0.000010</td>\n",
       "      <td>-0.000008</td>\n",
       "      <td>-0.000010</td>\n",
       "      <td>0.000012</td>\n",
       "      <td>-0.000010</td>\n",
       "      <td>...</td>\n",
       "      <td>0.000010</td>\n",
       "      <td>-1.011486e-05</td>\n",
       "      <td>0.000006</td>\n",
       "      <td>-0.000012</td>\n",
       "      <td>0.000009</td>\n",
       "      <td>9.745207e-06</td>\n",
       "      <td>-0.000023</td>\n",
       "      <td>1.762885e-05</td>\n",
       "      <td>4.505697</td>\n",
       "      <td>Mirin</td>\n",
       "    </tr>\n",
       "  </tbody>\n",
       "</table>\n",
       "<p>157618 rows × 1026 columns</p>\n",
       "</div>"
      ],
      "text/plain": [
       "               0         1         2         3             4         5  \\\n",
       "0       0.000003 -0.000005 -0.000004 -0.000004 -1.947630e-06 -0.000007   \n",
       "1      -0.000005  0.000006  0.000006  0.000006  3.244916e-06  0.000006   \n",
       "2      -0.000003  0.000008  0.000009  0.000009  1.274196e-05  0.000009   \n",
       "3      -0.000003  0.000004  0.000005  0.000003 -5.588725e-07  0.000004   \n",
       "4      -0.000007  0.000011  0.000012  0.000010  1.201331e-05  0.000011   \n",
       "...          ...       ...       ...       ...           ...       ...   \n",
       "157613 -0.000007  0.000008  0.000008  0.000008  8.162905e-06  0.000009   \n",
       "157614 -0.000003  0.000005  0.000003  0.000004 -5.281099e-07  0.000003   \n",
       "157615 -0.000006  0.000008  0.000007  0.000008  5.563005e-06  0.000008   \n",
       "157616 -0.000003  0.000007  0.000007  0.000009  1.268423e-05  0.000008   \n",
       "157617 -0.000006  0.000009  0.000011  0.000010  1.257368e-05  0.000010   \n",
       "\n",
       "               6         7         8         9  ...      1016          1017  \\\n",
       "0       0.000004  0.000005 -0.000008  0.000006  ... -0.000008  8.596951e-06   \n",
       "1      -0.000008 -0.000007  0.000009 -0.000007  ...  0.000006 -5.632875e-06   \n",
       "2      -0.000005 -0.000008  0.000009 -0.000008  ...  0.000008 -7.977654e-06   \n",
       "3      -0.000008 -0.000005  0.000007 -0.000005  ...  0.000003 -4.927579e-07   \n",
       "4      -0.000009 -0.000010  0.000014 -0.000011  ...  0.000011 -1.074133e-05   \n",
       "...          ...       ...       ...       ...  ...       ...           ...   \n",
       "157613 -0.000010 -0.000008  0.000013 -0.000008  ...  0.000009 -7.332826e-06   \n",
       "157614 -0.000007 -0.000005  0.000007 -0.000005  ...  0.000004 -2.925420e-06   \n",
       "157615 -0.000009 -0.000008  0.000011 -0.000008  ...  0.000008 -8.932820e-06   \n",
       "157616 -0.000004 -0.000007  0.000008 -0.000007  ...  0.000007 -7.991030e-06   \n",
       "157617 -0.000008 -0.000010  0.000012 -0.000010  ...  0.000010 -1.011486e-05   \n",
       "\n",
       "            1018      1019      1020          1021      1022          1023  \\\n",
       "0      -0.000004  0.000007 -0.000006  1.384662e-06 -0.000009 -7.559261e-07   \n",
       "1       0.000003 -0.000008  0.000006  3.438464e-06 -0.000010  4.930011e-06   \n",
       "2       0.000004 -0.000010  0.000008  1.155247e-05 -0.000020  1.835189e-05   \n",
       "3       0.000003 -0.000006  0.000004 -6.613679e-07  0.000002 -1.228852e-05   \n",
       "4       0.000011 -0.000013  0.000010  9.274476e-06 -0.000015  1.606120e-05   \n",
       "...          ...       ...       ...           ...       ...           ...   \n",
       "157613  0.000006 -0.000010  0.000009  2.017715e-05 -0.000010  4.866277e-06   \n",
       "157614  0.000004 -0.000005  0.000005  4.455080e-06 -0.000010 -1.907468e-06   \n",
       "157615  0.000005 -0.000009  0.000008  1.004996e-05 -0.000013  1.334167e-05   \n",
       "157616  0.000003 -0.000008  0.000007  8.460090e-06 -0.000029  1.755648e-05   \n",
       "157617  0.000006 -0.000012  0.000009  9.745207e-06 -0.000023  1.762885e-05   \n",
       "\n",
       "         LN_IC50      DRUG_NAME  \n",
       "0       2.686879         LGK974  \n",
       "1       5.515893  5-azacytidine  \n",
       "2       2.400499      Sorafenib  \n",
       "3       3.499021      PRT062607  \n",
       "4       2.639762        AZD5438  \n",
       "...          ...            ...  \n",
       "157613  2.482369           AGK2  \n",
       "157614  2.919147      Cisplatin  \n",
       "157615  4.440038     Serdemetan  \n",
       "157616  3.617427         ABT737  \n",
       "157617  4.505697          Mirin  \n",
       "\n",
       "[157618 rows x 1026 columns]"
      ]
     },
     "execution_count": 3,
     "metadata": {},
     "output_type": "execute_result"
    }
   ],
   "source": [
    "dimension_w_drug = dimension_w_drug.sample(frac=1, random_state=33).reset_index(drop=True)\n",
    "dimension_w_drug"
   ]
  },
  {
   "attachments": {},
   "cell_type": "markdown",
   "metadata": {},
   "source": [
    "### Seperate continuous and categorical columns"
   ]
  },
  {
   "cell_type": "code",
   "execution_count": 4,
   "metadata": {},
   "outputs": [],
   "source": [
    "cat_cols = ['DRUG_NAME']\n",
    "cont_cols = dimension_w_drug.drop(columns=['DRUG_NAME', 'LN_IC50']).columns\n",
    "label_cols = ['LN_IC50']"
   ]
  },
  {
   "cell_type": "code",
   "execution_count": 5,
   "metadata": {},
   "outputs": [
    {
     "data": {
      "text/plain": [
       "Index(['0', '1', '2', '3', '4', '5', '6', '7', '8', '9',\n",
       "       ...\n",
       "       '1014', '1015', '1016', '1017', '1018', '1019', '1020', '1021', '1022',\n",
       "       '1023'],\n",
       "      dtype='object', length=1024)"
      ]
     },
     "execution_count": 5,
     "metadata": {},
     "output_type": "execute_result"
    }
   ],
   "source": [
    "cont_cols"
   ]
  },
  {
   "cell_type": "code",
   "execution_count": 6,
   "metadata": {},
   "outputs": [
    {
     "data": {
      "text/plain": [
       "['DRUG_NAME']"
      ]
     },
     "execution_count": 6,
     "metadata": {},
     "output_type": "execute_result"
    }
   ],
   "source": [
    "cat_cols"
   ]
  },
  {
   "attachments": {},
   "cell_type": "markdown",
   "metadata": {},
   "source": [
    "### Categorify"
   ]
  },
  {
   "cell_type": "code",
   "execution_count": 7,
   "metadata": {},
   "outputs": [],
   "source": [
    "for cat in cat_cols:\n",
    "    dimension_w_drug[cat] = dimension_w_drug[cat].astype('category')"
   ]
  },
  {
   "cell_type": "code",
   "execution_count": 8,
   "metadata": {},
   "outputs": [
    {
     "data": {
      "text/plain": [
       "0             float64\n",
       "1             float64\n",
       "2             float64\n",
       "3             float64\n",
       "4             float64\n",
       "               ...   \n",
       "1021          float64\n",
       "1022          float64\n",
       "1023          float64\n",
       "LN_IC50       float64\n",
       "DRUG_NAME    category\n",
       "Length: 1026, dtype: object"
      ]
     },
     "execution_count": 8,
     "metadata": {},
     "output_type": "execute_result"
    }
   ],
   "source": [
    "dimension_w_drug.dtypes"
   ]
  },
  {
   "cell_type": "code",
   "execution_count": 9,
   "metadata": {},
   "outputs": [
    {
     "data": {
      "text/plain": [
       "0           LGK974\n",
       "1    5-azacytidine\n",
       "2        Sorafenib\n",
       "3        PRT062607\n",
       "4          AZD5438\n",
       "Name: DRUG_NAME, dtype: category\n",
       "Categories (286, object): ['123138', '123829', '150412', '5-Fluorouracil', ..., 'Zoledronate', 'alpha-lipoic acid', 'ascorbate (vitamin C)', 'glutathione']"
      ]
     },
     "execution_count": 9,
     "metadata": {},
     "output_type": "execute_result"
    }
   ],
   "source": [
    "dimension_w_drug['DRUG_NAME'].head()"
   ]
  },
  {
   "cell_type": "code",
   "execution_count": 10,
   "metadata": {},
   "outputs": [
    {
     "data": {
      "text/plain": [
       "Index(['123138', '123829', '150412', '5-Fluorouracil', '5-azacytidine',\n",
       "       '50869', '615590', '630600', '667880', '720427',\n",
       "       ...\n",
       "       'WZ4003', 'Wee1 Inhibitor', 'Wnt-C59', 'XAV939', 'YK-4-279', 'ZM447439',\n",
       "       'Zoledronate', 'alpha-lipoic acid', 'ascorbate (vitamin C)',\n",
       "       'glutathione'],\n",
       "      dtype='object', length=286)"
      ]
     },
     "execution_count": 10,
     "metadata": {},
     "output_type": "execute_result"
    }
   ],
   "source": [
    "dimension_w_drug['DRUG_NAME'].cat.categories"
   ]
  },
  {
   "cell_type": "code",
   "execution_count": 11,
   "metadata": {},
   "outputs": [],
   "source": [
    "drug_name = dimension_w_drug['DRUG_NAME'].cat.codes.values"
   ]
  },
  {
   "cell_type": "code",
   "execution_count": 12,
   "metadata": {},
   "outputs": [],
   "source": [
    "cats = np.stack([drug_name],1)\n",
    "cats = torch.tensor(cats, dtype=torch.int64)"
   ]
  },
  {
   "cell_type": "code",
   "execution_count": 13,
   "metadata": {},
   "outputs": [
    {
     "data": {
      "text/plain": [
       "tensor([[146],\n",
       "        [  4],\n",
       "        [237],\n",
       "        ...,\n",
       "        [235],\n",
       "        [ 16],\n",
       "        [168]])"
      ]
     },
     "execution_count": 13,
     "metadata": {},
     "output_type": "execute_result"
    }
   ],
   "source": [
    "cats"
   ]
  },
  {
   "attachments": {},
   "cell_type": "markdown",
   "metadata": {},
   "source": [
    "### Continuous variables to tensor"
   ]
  },
  {
   "cell_type": "code",
   "execution_count": 14,
   "metadata": {},
   "outputs": [
    {
     "data": {
      "text/plain": [
       "tensor([[ 2.9615e-06, -4.5133e-06, -4.2397e-06,  ...,  1.3847e-06,\n",
       "         -8.8269e-06, -7.5593e-07],\n",
       "        [-4.6223e-06,  6.0358e-06,  6.3223e-06,  ...,  3.4385e-06,\n",
       "         -9.7063e-06,  4.9300e-06],\n",
       "        [-2.8903e-06,  7.6155e-06,  9.4516e-06,  ...,  1.1552e-05,\n",
       "         -2.0000e-05,  1.8352e-05],\n",
       "        ...,\n",
       "        [-6.0534e-06,  7.8305e-06,  7.0509e-06,  ...,  1.0050e-05,\n",
       "         -1.2573e-05,  1.3342e-05],\n",
       "        [-3.2886e-06,  6.8264e-06,  7.4798e-06,  ...,  8.4601e-06,\n",
       "         -2.9261e-05,  1.7556e-05],\n",
       "        [-6.0430e-06,  9.3195e-06,  1.0771e-05,  ...,  9.7452e-06,\n",
       "         -2.3450e-05,  1.7629e-05]])"
      ]
     },
     "execution_count": 14,
     "metadata": {},
     "output_type": "execute_result"
    }
   ],
   "source": [
    "conts = np.stack([dimension_w_drug[col].values for col in cont_cols], 1)\n",
    "conts = torch.tensor(conts, dtype=torch.float)\n",
    "conts"
   ]
  },
  {
   "attachments": {},
   "cell_type": "markdown",
   "metadata": {},
   "source": [
    "### Labels to tensor"
   ]
  },
  {
   "cell_type": "code",
   "execution_count": 15,
   "metadata": {},
   "outputs": [
    {
     "data": {
      "text/plain": [
       "tensor([[2.6869],\n",
       "        [5.5159],\n",
       "        [2.4005],\n",
       "        ...,\n",
       "        [4.4400],\n",
       "        [3.6174],\n",
       "        [4.5057]])"
      ]
     },
     "execution_count": 15,
     "metadata": {},
     "output_type": "execute_result"
    }
   ],
   "source": [
    "labels = np.stack([dimension_w_drug[col].values for col in label_cols], 1)\n",
    "labels = torch.tensor(labels, dtype=torch.float)\n",
    "labels"
   ]
  },
  {
   "attachments": {},
   "cell_type": "markdown",
   "metadata": {},
   "source": [
    "### Embedding size"
   ]
  },
  {
   "cell_type": "code",
   "execution_count": 16,
   "metadata": {},
   "outputs": [
    {
     "data": {
      "text/plain": [
       "[(286, 50)]"
      ]
     },
     "execution_count": 16,
     "metadata": {},
     "output_type": "execute_result"
    }
   ],
   "source": [
    "cat_szs = [len(dimension_w_drug[col].cat.categories) for col in cat_cols]\n",
    "emb_szs = [(size, min(50, (size+1)//2)) for size in cat_szs]\n",
    "emb_szs"
   ]
  },
  {
   "attachments": {},
   "cell_type": "markdown",
   "metadata": {},
   "source": [
    "### Define model"
   ]
  },
  {
   "cell_type": "code",
   "execution_count": 17,
   "metadata": {},
   "outputs": [],
   "source": [
    "class TabularModel(nn.Module):\n",
    "\n",
    "    def __init__(self, emb_szs, n_cont, out_sz, layers, p=0.5):\n",
    "        super().__init__()\n",
    "        self.embeds = nn.ModuleList([nn.Embedding(ni, nf) for ni,nf in emb_szs])\n",
    "        self.emb_drop = nn.Dropout(p)\n",
    "        self.bn_cont = nn.BatchNorm1d(n_cont)\n",
    "        \n",
    "        layerlist = []\n",
    "        n_emb = sum((nf for ni,nf in emb_szs))\n",
    "        n_in = n_emb + n_cont\n",
    "        \n",
    "        for i in layers:\n",
    "            layerlist.append(nn.Linear(n_in,i)) \n",
    "            layerlist.append(nn.ReLU(inplace=True))\n",
    "            layerlist.append(nn.BatchNorm1d(i))\n",
    "            layerlist.append(nn.Dropout(p))\n",
    "            n_in = i\n",
    "        layerlist.append(nn.Linear(layers[-1],out_sz))\n",
    "            \n",
    "        self.layers = nn.Sequential(*layerlist)\n",
    "    \n",
    "    def forward(self, x_cat, x_cont):\n",
    "        embeddings = []\n",
    "        for i,e in enumerate(self.embeds):\n",
    "            embeddings.append(e(x_cat[:,i]))\n",
    "        x = torch.cat(embeddings, 1)\n",
    "        x = self.emb_drop(x)\n",
    "        \n",
    "        x_cont = self.bn_cont(x_cont)\n",
    "        x = torch.cat([x, x_cont], 1)\n",
    "        x = self.layers(x)\n",
    "        return x"
   ]
  },
  {
   "cell_type": "code",
   "execution_count": 18,
   "metadata": {},
   "outputs": [],
   "source": [
    "torch.manual_seed(33)\n",
    "model = TabularModel(emb_szs, conts.shape[1], 1, [200,100], p=0.4)"
   ]
  },
  {
   "cell_type": "code",
   "execution_count": 19,
   "metadata": {},
   "outputs": [
    {
     "data": {
      "text/plain": [
       "TabularModel(\n",
       "  (embeds): ModuleList(\n",
       "    (0): Embedding(286, 50)\n",
       "  )\n",
       "  (emb_drop): Dropout(p=0.4, inplace=False)\n",
       "  (bn_cont): BatchNorm1d(1024, eps=1e-05, momentum=0.1, affine=True, track_running_stats=True)\n",
       "  (layers): Sequential(\n",
       "    (0): Linear(in_features=1074, out_features=200, bias=True)\n",
       "    (1): ReLU(inplace=True)\n",
       "    (2): BatchNorm1d(200, eps=1e-05, momentum=0.1, affine=True, track_running_stats=True)\n",
       "    (3): Dropout(p=0.4, inplace=False)\n",
       "    (4): Linear(in_features=200, out_features=100, bias=True)\n",
       "    (5): ReLU(inplace=True)\n",
       "    (6): BatchNorm1d(100, eps=1e-05, momentum=0.1, affine=True, track_running_stats=True)\n",
       "    (7): Dropout(p=0.4, inplace=False)\n",
       "    (8): Linear(in_features=100, out_features=1, bias=True)\n",
       "  )\n",
       ")"
      ]
     },
     "execution_count": 19,
     "metadata": {},
     "output_type": "execute_result"
    }
   ],
   "source": [
    "model"
   ]
  },
  {
   "attachments": {},
   "cell_type": "markdown",
   "metadata": {},
   "source": [
    "### Loss and Optimizer Function"
   ]
  },
  {
   "cell_type": "code",
   "execution_count": 20,
   "metadata": {},
   "outputs": [],
   "source": [
    "loss_fn = nn.MSELoss()\n",
    "optimizer = torch.optim.Adam(model.parameters(), lr=0.001)"
   ]
  },
  {
   "cell_type": "code",
   "execution_count": 21,
   "metadata": {},
   "outputs": [
    {
     "data": {
      "text/plain": [
       "'NVIDIA GeForce RTX 3060'"
      ]
     },
     "execution_count": 21,
     "metadata": {},
     "output_type": "execute_result"
    }
   ],
   "source": [
    "torch.cuda.get_device_name(0) # Get name device with ID '0'"
   ]
  },
  {
   "attachments": {},
   "cell_type": "markdown",
   "metadata": {},
   "source": [
    "### Perform train/test splits"
   ]
  },
  {
   "cell_type": "code",
   "execution_count": 22,
   "metadata": {},
   "outputs": [],
   "source": [
    "batch_size = conts.shape[0]\n",
    "test_size = int(batch_size * .2)\n",
    "\n",
    "cat_train = cats[:batch_size-test_size]\n",
    "cat_test = cats[batch_size-test_size:batch_size]\n",
    "con_train = conts[:batch_size-test_size]\n",
    "con_test = conts[batch_size-test_size:batch_size]\n",
    "y_train = labels[:batch_size-test_size]\n",
    "y_test = labels[batch_size-test_size:batch_size]"
   ]
  },
  {
   "cell_type": "code",
   "execution_count": 23,
   "metadata": {},
   "outputs": [
    {
     "data": {
      "text/plain": [
       "torch.Size([126095, 1024])"
      ]
     },
     "execution_count": 23,
     "metadata": {},
     "output_type": "execute_result"
    }
   ],
   "source": [
    "con_train.shape"
   ]
  },
  {
   "cell_type": "code",
   "execution_count": 24,
   "metadata": {},
   "outputs": [
    {
     "data": {
      "text/plain": [
       "tensor([[-0.0142],\n",
       "        [ 1.1932],\n",
       "        [ 2.3768],\n",
       "        ...,\n",
       "        [ 4.4400],\n",
       "        [ 3.6174],\n",
       "        [ 4.5057]])"
      ]
     },
     "execution_count": 24,
     "metadata": {},
     "output_type": "execute_result"
    }
   ],
   "source": [
    "y_test"
   ]
  },
  {
   "cell_type": "code",
   "execution_count": 25,
   "metadata": {},
   "outputs": [
    {
     "data": {
      "text/plain": [
       "tensor([[ 2.6869],\n",
       "        [ 5.5159],\n",
       "        [ 2.4005],\n",
       "        ...,\n",
       "        [-1.4227],\n",
       "        [ 5.0628],\n",
       "        [-6.8808]])"
      ]
     },
     "execution_count": 25,
     "metadata": {},
     "output_type": "execute_result"
    }
   ],
   "source": [
    "y_train"
   ]
  },
  {
   "attachments": {},
   "cell_type": "markdown",
   "metadata": {},
   "source": [
    "### Train model"
   ]
  },
  {
   "cell_type": "code",
   "execution_count": 26,
   "metadata": {},
   "outputs": [
    {
     "name": "stdout",
     "output_type": "stream",
     "text": [
      "epoch:   1  loss: 4.06632090\n",
      "epoch:  26  loss: 3.45487690\n",
      "epoch:  51  loss: 3.13960123\n",
      "epoch:  76  loss: 2.74727631\n",
      "epoch: 101  loss: 2.33467817\n",
      "epoch: 126  loss: 2.08860517\n",
      "epoch: 151  loss: 1.98550105\n",
      "epoch: 176  loss: 1.91268742\n",
      "epoch: 201  loss: 1.84727287\n",
      "epoch: 226  loss: 1.80065322\n",
      "epoch: 251  loss: 1.76378798\n",
      "epoch: 276  loss: 1.73173845\n",
      "epoch: 301  loss: 1.70868433\n",
      "epoch: 326  loss: 1.67802823\n",
      "epoch: 351  loss: 1.66467977\n",
      "epoch: 376  loss: 1.64594555\n",
      "epoch: 401  loss: 1.63780987\n",
      "epoch: 426  loss: 1.62024534\n",
      "epoch: 451  loss: 1.60554051\n",
      "epoch: 476  loss: 1.60007894\n",
      "epoch: 500  loss: 1.58470333\n",
      "\n",
      "Duration: 1292 seconds\n"
     ]
    }
   ],
   "source": [
    "import time\n",
    "start_time = time.time()\n",
    "\n",
    "epochs = 500\n",
    "losses = []\n",
    "\n",
    "for i in range(epochs):\n",
    "    i+=1\n",
    "    y_pred = model(cat_train, con_train)\n",
    "    loss = torch.sqrt(loss_fn(y_pred, y_train)) # RMSE\n",
    "    losses.append(loss.item())\n",
    "    \n",
    "    # a neat trick to save screen space:\n",
    "    if i%25 == 1:\n",
    "        print(f'epoch: {i:3}  loss: {loss.item():10.8f}')\n",
    "\n",
    "    optimizer.zero_grad()\n",
    "    loss.backward()\n",
    "    optimizer.step()\n",
    "\n",
    "print(f'epoch: {i:3}  loss: {loss.item():10.8f}') # print the last line\n",
    "print(f'\\nDuration: {time.time() - start_time:.0f} seconds') # print the time elapsed"
   ]
  },
  {
   "attachments": {},
   "cell_type": "markdown",
   "metadata": {},
   "source": [
    "### Plot loss function"
   ]
  },
  {
   "cell_type": "code",
   "execution_count": 35,
   "metadata": {},
   "outputs": [
    {
     "data": {
      "text/plain": [
       "Text(0.5, 0, 'epoch')"
      ]
     },
     "execution_count": 35,
     "metadata": {},
     "output_type": "execute_result"
    },
    {
     "data": {
      "image/png": "[encoded data removed]",
      "text/plain": [
       "<Figure size 640x480 with 1 Axes>"
      ]
     },
     "metadata": {},
     "output_type": "display_data"
    }
   ],
   "source": [
    "plt.plot(range(epochs), losses)\n",
    "plt.ylabel('RMSE Loss')\n",
    "plt.xlabel('epoch')\n"
   ]
  },
  {
   "cell_type": "code",
   "execution_count": 36,
   "metadata": {},
   "outputs": [],
   "source": []
  },
  {
   "attachments": {},
   "cell_type": "markdown",
   "metadata": {},
   "source": [
    "### Validate Model"
   ]
  },
  {
   "cell_type": "code",
   "execution_count": 28,
   "metadata": {},
   "outputs": [
    {
     "name": "stdout",
     "output_type": "stream",
     "text": [
      "RMSE: 1.59683287\n"
     ]
    }
   ],
   "source": [
    "with torch.no_grad():\n",
    "    y_val = model(cat_test, con_test)\n",
    "    loss = torch.sqrt(loss_fn(y_val, y_test))\n",
    "print(f'RMSE: {loss:.8f}')"
   ]
  },
  {
   "cell_type": "code",
   "execution_count": 29,
   "metadata": {},
   "outputs": [
    {
     "name": "stdout",
     "output_type": "stream",
     "text": [
      "   PREDICTED   ACTUAL     DIFF\n",
      " 1.  -2.6255  -0.0142   2.6114\n",
      " 2.   3.9421   1.1932   2.7490\n",
      " 3.   3.0200   2.3768   0.6432\n",
      " 4.   3.5226   5.8819   2.3593\n",
      " 5.   3.4249   3.6806   0.2557\n",
      " 6.   1.9661   5.3496   3.3835\n",
      " 7.   4.2164   4.4454   0.2290\n",
      " 8.   3.3988   3.5117   0.1128\n",
      " 9.   2.4886  -0.0613   2.5499\n",
      "10.   1.0357   0.3543   0.6814\n",
      "11.   5.2798   4.5224   0.7574\n",
      "12.   3.8675   4.5157   0.6482\n",
      "13.   4.6439   6.0162   1.3723\n",
      "14.   3.4057   5.7954   2.3897\n",
      "15.   3.8820   4.7382   0.8562\n",
      "16.   1.4867  -0.0545   1.5412\n",
      "17.   2.3678   2.1559   0.2119\n",
      "18.   5.3248   8.0332   2.7084\n",
      "19.   5.3819   5.4961   0.1142\n",
      "20.   3.3323   4.7903   1.4581\n",
      "21.   1.2468  -0.1294   1.3762\n",
      "22.   2.9470   1.2184   1.7286\n",
      "23.   0.7092   0.8689   0.1597\n",
      "24.   1.3022   1.0359   0.2663\n",
      "25.   0.9250   1.9203   0.9953\n",
      "26.   5.1420   4.8219   0.3201\n",
      "27.   4.5862   4.1070   0.4792\n",
      "28.   3.4028   7.2403   3.8375\n",
      "29.   2.8843   2.6463   0.2380\n",
      "30.   0.0118  -0.1525   0.1643\n",
      "31.   3.2461   2.1100   1.1361\n",
      "32.   2.3109   4.5645   2.2536\n",
      "33.   5.4761   4.2704   1.2057\n",
      "34.  -3.1701  -3.9058   0.7358\n",
      "35.   4.5706   5.1756   0.6050\n",
      "36.   3.0488   2.1703   0.8786\n",
      "37.   0.9248  -0.6538   1.5786\n",
      "38.   1.9817   4.6825   2.7009\n",
      "39.   9.6527  10.8128   1.1601\n",
      "40.   3.5287   2.9954   0.5333\n",
      "41.   4.6255   4.2600   0.3654\n",
      "42.  -0.1773  -0.6616   0.4844\n",
      "43.   4.7735   4.3597   0.4138\n",
      "44.   4.4474   2.9767   1.4707\n",
      "45.   2.8420   4.5672   1.7252\n",
      "46.  -0.0880  -1.4572   1.3692\n",
      "47.   4.4434   4.2126   0.2308\n",
      "48.   4.1335   4.1256   0.0079\n",
      "49.   1.7148   4.7705   3.0557\n",
      "50.   4.6856  -1.7158   6.4014\n",
      "51.   3.4365   5.4410   2.0044\n",
      "52.   3.4363   3.1801   0.2562\n",
      "53.   3.2683   4.5552   1.2869\n",
      "54.   4.0998   3.3735   0.7264\n",
      "55.   0.2267   0.2321   0.0054\n",
      "56.   3.9907   3.5578   0.4329\n",
      "57.  -0.0392  -1.7567   1.7175\n",
      "58.   1.8276   4.8558   3.0281\n",
      "59.  -1.6566  -0.2520   1.4045\n",
      "60.   0.1684   1.7567   1.5883\n",
      "61.   3.4883   7.2025   3.7142\n",
      "62.  -2.9727   0.7184   3.6911\n",
      "63.  -0.0642  -0.4597   0.3955\n",
      "64.   0.6434  -1.0458   1.6892\n",
      "65.   3.3865   1.9478   1.4387\n",
      "66.   2.5291   0.7425   1.7866\n",
      "67.   2.0323   2.0813   0.0490\n",
      "68.   4.3822   7.1752   2.7930\n",
      "69.   4.9471   4.6230   0.3241\n",
      "70.   5.4983   4.4904   1.0079\n",
      "71.   1.5453   0.9857   0.5596\n",
      "72.   3.1505   3.6313   0.4808\n",
      "73.   3.1148   3.1969   0.0821\n",
      "74.   5.1607   4.9916   0.1690\n",
      "75.   3.6827   6.4046   2.7219\n",
      "76.   2.4587   4.2312   1.7725\n",
      "77.   0.8517   2.0933   1.2416\n",
      "78.   4.5079   5.3901   0.8822\n",
      "79.   3.3039   1.8693   1.4346\n",
      "80.  -0.4315   0.4460   0.8775\n",
      "81.  -3.1364  -2.2371   0.8993\n",
      "82.  -3.4331  -0.3685   3.0646\n",
      "83.   4.1889   2.3777   1.8112\n",
      "84.   1.9814   2.5200   0.5386\n",
      "85.   6.2086   6.4355   0.2269\n",
      "86.   1.5959   3.4798   1.8839\n",
      "87.  -3.8917  -5.6867   1.7950\n",
      "88.   2.4870   2.8142   0.3272\n",
      "89.   3.5855   5.4806   1.8951\n",
      "90.   1.4140   2.7529   1.3389\n",
      "91.   2.4272   2.5586   0.1314\n",
      "92.   2.2773   2.8840   0.6066\n",
      "93.  10.4015   9.0761   1.3254\n",
      "94.   4.8353   6.7056   1.8703\n",
      "95.   0.2844   1.4214   1.1370\n",
      "96.   4.7995   5.3591   0.5596\n",
      "97.   2.4454   2.1111   0.3342\n",
      "98.   3.4551   2.7930   0.6621\n",
      "99.   1.7692   4.5763   2.8071\n",
      "100.   4.4096   3.9726   0.4370\n"
     ]
    }
   ],
   "source": [
    "print(f'{\"PREDICTED\":>12} {\"ACTUAL\":>8} {\"DIFF\":>8}')\n",
    "for i in range(50):\n",
    "    diff = np.abs(y_val[i].item()-y_test[i].item())\n",
    "    print(f'{i+1:2}. {y_val[i].item():8.4f} {y_test[i].item():8.4f} {diff:8.4f}')"
   ]
  },
  {
   "cell_type": "code",
   "execution_count": null,
   "metadata": {},
   "outputs": [],
   "source": []
  },
  {
   "cell_type": "code",
   "execution_count": null,
   "metadata": {},
   "outputs": [],
   "source": []
  },
  {
   "cell_type": "code",
   "execution_count": null,
   "metadata": {},
   "outputs": [],
   "source": []
  },
  {
   "cell_type": "code",
   "execution_count": null,
   "metadata": {},
   "outputs": [],
   "source": []
  },
  {
   "cell_type": "code",
   "execution_count": null,
   "metadata": {},
   "outputs": [],
   "source": []
  },
  {
   "cell_type": "code",
   "execution_count": null,
   "metadata": {},
   "outputs": [],
   "source": []
  },
  {
   "cell_type": "code",
   "execution_count": null,
   "metadata": {},
   "outputs": [],
   "source": []
  },
  {
   "cell_type": "code",
   "execution_count": null,
   "metadata": {},
   "outputs": [],
   "source": []
  },
  {
   "attachments": {},
   "cell_type": "markdown",
   "metadata": {},
   "source": [
    "### Min Max Scale X and extract y"
   ]
  },
  {
   "cell_type": "code",
   "execution_count": 3,
   "metadata": {},
   "outputs": [],
   "source": [
    "scaler = MinMaxScaler()\n",
    "col = dimension_w_drug.drop(columns=['LN_IC50']).columns\n",
    "X = scaler.fit_transform(dimension_w_drug.drop(columns=['LN_IC50']))\n",
    "X = pd.DataFrame(X, columns=col)\n",
    "y = dimension_w_drug['LN_IC50']\n",
    "\n",
    "scaled_df = X\n",
    "scaled_df['LN_IC50'] = y"
   ]
  },
  {
   "cell_type": "code",
   "execution_count": 4,
   "metadata": {},
   "outputs": [
    {
     "data": {
      "text/html": [
       "<div>\n",
       "<style scoped>\n",
       "    .dataframe tbody tr th:only-of-type {\n",
       "        vertical-align: middle;\n",
       "    }\n",
       "\n",
       "    .dataframe tbody tr th {\n",
       "        vertical-align: top;\n",
       "    }\n",
       "\n",
       "    .dataframe thead th {\n",
       "        text-align: right;\n",
       "    }\n",
       "</style>\n",
       "<table border=\"1\" class=\"dataframe\">\n",
       "  <thead>\n",
       "    <tr style=\"text-align: right;\">\n",
       "      <th></th>\n",
       "      <th>0</th>\n",
       "      <th>1</th>\n",
       "      <th>2</th>\n",
       "      <th>3</th>\n",
       "      <th>4</th>\n",
       "      <th>5</th>\n",
       "      <th>6</th>\n",
       "      <th>7</th>\n",
       "      <th>8</th>\n",
       "      <th>9</th>\n",
       "      <th>...</th>\n",
       "      <th>DRUG_NAME_Wee1 Inhibitor</th>\n",
       "      <th>DRUG_NAME_Wnt-C59</th>\n",
       "      <th>DRUG_NAME_XAV939</th>\n",
       "      <th>DRUG_NAME_YK-4-279</th>\n",
       "      <th>DRUG_NAME_ZM447439</th>\n",
       "      <th>DRUG_NAME_Zoledronate</th>\n",
       "      <th>DRUG_NAME_alpha-lipoic acid</th>\n",
       "      <th>DRUG_NAME_ascorbate (vitamin C)</th>\n",
       "      <th>DRUG_NAME_glutathione</th>\n",
       "      <th>LN_IC50</th>\n",
       "    </tr>\n",
       "  </thead>\n",
       "  <tbody>\n",
       "    <tr>\n",
       "      <th>0</th>\n",
       "      <td>0.098109</td>\n",
       "      <td>0.973217</td>\n",
       "      <td>0.934634</td>\n",
       "      <td>0.082488</td>\n",
       "      <td>0.003494</td>\n",
       "      <td>0.057198</td>\n",
       "      <td>0.040924</td>\n",
       "      <td>0.983428</td>\n",
       "      <td>0.953679</td>\n",
       "      <td>0.993825</td>\n",
       "      <td>...</td>\n",
       "      <td>0.0</td>\n",
       "      <td>0.0</td>\n",
       "      <td>0.0</td>\n",
       "      <td>0.0</td>\n",
       "      <td>0.0</td>\n",
       "      <td>0.0</td>\n",
       "      <td>0.0</td>\n",
       "      <td>0.0</td>\n",
       "      <td>0.0</td>\n",
       "      <td>-2.902460</td>\n",
       "    </tr>\n",
       "    <tr>\n",
       "      <th>1</th>\n",
       "      <td>0.098109</td>\n",
       "      <td>0.973217</td>\n",
       "      <td>0.934634</td>\n",
       "      <td>0.082488</td>\n",
       "      <td>0.003494</td>\n",
       "      <td>0.057198</td>\n",
       "      <td>0.040924</td>\n",
       "      <td>0.983428</td>\n",
       "      <td>0.953679</td>\n",
       "      <td>0.993825</td>\n",
       "      <td>...</td>\n",
       "      <td>0.0</td>\n",
       "      <td>0.0</td>\n",
       "      <td>0.0</td>\n",
       "      <td>0.0</td>\n",
       "      <td>0.0</td>\n",
       "      <td>0.0</td>\n",
       "      <td>0.0</td>\n",
       "      <td>0.0</td>\n",
       "      <td>0.0</td>\n",
       "      <td>-4.384381</td>\n",
       "    </tr>\n",
       "    <tr>\n",
       "      <th>2</th>\n",
       "      <td>0.098109</td>\n",
       "      <td>0.973217</td>\n",
       "      <td>0.934634</td>\n",
       "      <td>0.082488</td>\n",
       "      <td>0.003494</td>\n",
       "      <td>0.057198</td>\n",
       "      <td>0.040924</td>\n",
       "      <td>0.983428</td>\n",
       "      <td>0.953679</td>\n",
       "      <td>0.993825</td>\n",
       "      <td>...</td>\n",
       "      <td>0.0</td>\n",
       "      <td>0.0</td>\n",
       "      <td>0.0</td>\n",
       "      <td>0.0</td>\n",
       "      <td>0.0</td>\n",
       "      <td>0.0</td>\n",
       "      <td>0.0</td>\n",
       "      <td>0.0</td>\n",
       "      <td>0.0</td>\n",
       "      <td>3.372862</td>\n",
       "    </tr>\n",
       "    <tr>\n",
       "      <th>3</th>\n",
       "      <td>0.098109</td>\n",
       "      <td>0.973217</td>\n",
       "      <td>0.934634</td>\n",
       "      <td>0.082488</td>\n",
       "      <td>0.003494</td>\n",
       "      <td>0.057198</td>\n",
       "      <td>0.040924</td>\n",
       "      <td>0.983428</td>\n",
       "      <td>0.953679</td>\n",
       "      <td>0.993825</td>\n",
       "      <td>...</td>\n",
       "      <td>0.0</td>\n",
       "      <td>0.0</td>\n",
       "      <td>0.0</td>\n",
       "      <td>0.0</td>\n",
       "      <td>0.0</td>\n",
       "      <td>0.0</td>\n",
       "      <td>0.0</td>\n",
       "      <td>0.0</td>\n",
       "      <td>0.0</td>\n",
       "      <td>4.189364</td>\n",
       "    </tr>\n",
       "    <tr>\n",
       "      <th>4</th>\n",
       "      <td>0.098109</td>\n",
       "      <td>0.973217</td>\n",
       "      <td>0.934634</td>\n",
       "      <td>0.082488</td>\n",
       "      <td>0.003494</td>\n",
       "      <td>0.057198</td>\n",
       "      <td>0.040924</td>\n",
       "      <td>0.983428</td>\n",
       "      <td>0.953679</td>\n",
       "      <td>0.993825</td>\n",
       "      <td>...</td>\n",
       "      <td>0.0</td>\n",
       "      <td>0.0</td>\n",
       "      <td>0.0</td>\n",
       "      <td>0.0</td>\n",
       "      <td>0.0</td>\n",
       "      <td>0.0</td>\n",
       "      <td>0.0</td>\n",
       "      <td>0.0</td>\n",
       "      <td>0.0</td>\n",
       "      <td>-3.693711</td>\n",
       "    </tr>\n",
       "    <tr>\n",
       "      <th>...</th>\n",
       "      <td>...</td>\n",
       "      <td>...</td>\n",
       "      <td>...</td>\n",
       "      <td>...</td>\n",
       "      <td>...</td>\n",
       "      <td>...</td>\n",
       "      <td>...</td>\n",
       "      <td>...</td>\n",
       "      <td>...</td>\n",
       "      <td>...</td>\n",
       "      <td>...</td>\n",
       "      <td>...</td>\n",
       "      <td>...</td>\n",
       "      <td>...</td>\n",
       "      <td>...</td>\n",
       "      <td>...</td>\n",
       "      <td>...</td>\n",
       "      <td>...</td>\n",
       "      <td>...</td>\n",
       "      <td>...</td>\n",
       "      <td>...</td>\n",
       "    </tr>\n",
       "    <tr>\n",
       "      <th>157613</th>\n",
       "      <td>0.096684</td>\n",
       "      <td>0.982266</td>\n",
       "      <td>0.919321</td>\n",
       "      <td>0.076251</td>\n",
       "      <td>0.038997</td>\n",
       "      <td>0.069472</td>\n",
       "      <td>0.093618</td>\n",
       "      <td>0.937792</td>\n",
       "      <td>0.913322</td>\n",
       "      <td>0.953113</td>\n",
       "      <td>...</td>\n",
       "      <td>0.0</td>\n",
       "      <td>0.0</td>\n",
       "      <td>0.0</td>\n",
       "      <td>0.0</td>\n",
       "      <td>0.0</td>\n",
       "      <td>0.0</td>\n",
       "      <td>0.0</td>\n",
       "      <td>0.0</td>\n",
       "      <td>0.0</td>\n",
       "      <td>6.556376</td>\n",
       "    </tr>\n",
       "    <tr>\n",
       "      <th>157614</th>\n",
       "      <td>0.096684</td>\n",
       "      <td>0.982266</td>\n",
       "      <td>0.919321</td>\n",
       "      <td>0.076251</td>\n",
       "      <td>0.038997</td>\n",
       "      <td>0.069472</td>\n",
       "      <td>0.093618</td>\n",
       "      <td>0.937792</td>\n",
       "      <td>0.913322</td>\n",
       "      <td>0.953113</td>\n",
       "      <td>...</td>\n",
       "      <td>0.0</td>\n",
       "      <td>0.0</td>\n",
       "      <td>0.0</td>\n",
       "      <td>0.0</td>\n",
       "      <td>0.0</td>\n",
       "      <td>0.0</td>\n",
       "      <td>0.0</td>\n",
       "      <td>1.0</td>\n",
       "      <td>0.0</td>\n",
       "      <td>12.036685</td>\n",
       "    </tr>\n",
       "    <tr>\n",
       "      <th>157615</th>\n",
       "      <td>0.096684</td>\n",
       "      <td>0.982266</td>\n",
       "      <td>0.919321</td>\n",
       "      <td>0.076251</td>\n",
       "      <td>0.038997</td>\n",
       "      <td>0.069472</td>\n",
       "      <td>0.093618</td>\n",
       "      <td>0.937792</td>\n",
       "      <td>0.913322</td>\n",
       "      <td>0.953113</td>\n",
       "      <td>...</td>\n",
       "      <td>0.0</td>\n",
       "      <td>0.0</td>\n",
       "      <td>0.0</td>\n",
       "      <td>0.0</td>\n",
       "      <td>0.0</td>\n",
       "      <td>0.0</td>\n",
       "      <td>0.0</td>\n",
       "      <td>0.0</td>\n",
       "      <td>1.0</td>\n",
       "      <td>11.217061</td>\n",
       "    </tr>\n",
       "    <tr>\n",
       "      <th>157616</th>\n",
       "      <td>0.096684</td>\n",
       "      <td>0.982266</td>\n",
       "      <td>0.919321</td>\n",
       "      <td>0.076251</td>\n",
       "      <td>0.038997</td>\n",
       "      <td>0.069472</td>\n",
       "      <td>0.093618</td>\n",
       "      <td>0.937792</td>\n",
       "      <td>0.913322</td>\n",
       "      <td>0.953113</td>\n",
       "      <td>...</td>\n",
       "      <td>0.0</td>\n",
       "      <td>0.0</td>\n",
       "      <td>0.0</td>\n",
       "      <td>0.0</td>\n",
       "      <td>0.0</td>\n",
       "      <td>0.0</td>\n",
       "      <td>1.0</td>\n",
       "      <td>0.0</td>\n",
       "      <td>0.0</td>\n",
       "      <td>8.823341</td>\n",
       "    </tr>\n",
       "    <tr>\n",
       "      <th>157617</th>\n",
       "      <td>0.096684</td>\n",
       "      <td>0.982266</td>\n",
       "      <td>0.919321</td>\n",
       "      <td>0.076251</td>\n",
       "      <td>0.038997</td>\n",
       "      <td>0.069472</td>\n",
       "      <td>0.093618</td>\n",
       "      <td>0.937792</td>\n",
       "      <td>0.913322</td>\n",
       "      <td>0.953113</td>\n",
       "      <td>...</td>\n",
       "      <td>0.0</td>\n",
       "      <td>0.0</td>\n",
       "      <td>0.0</td>\n",
       "      <td>0.0</td>\n",
       "      <td>0.0</td>\n",
       "      <td>0.0</td>\n",
       "      <td>0.0</td>\n",
       "      <td>0.0</td>\n",
       "      <td>0.0</td>\n",
       "      <td>9.995125</td>\n",
       "    </tr>\n",
       "  </tbody>\n",
       "</table>\n",
       "<p>157618 rows × 415 columns</p>\n",
       "</div>"
      ],
      "text/plain": [
       "               0         1         2         3         4         5         6  \\\n",
       "0       0.098109  0.973217  0.934634  0.082488  0.003494  0.057198  0.040924   \n",
       "1       0.098109  0.973217  0.934634  0.082488  0.003494  0.057198  0.040924   \n",
       "2       0.098109  0.973217  0.934634  0.082488  0.003494  0.057198  0.040924   \n",
       "3       0.098109  0.973217  0.934634  0.082488  0.003494  0.057198  0.040924   \n",
       "4       0.098109  0.973217  0.934634  0.082488  0.003494  0.057198  0.040924   \n",
       "...          ...       ...       ...       ...       ...       ...       ...   \n",
       "157613  0.096684  0.982266  0.919321  0.076251  0.038997  0.069472  0.093618   \n",
       "157614  0.096684  0.982266  0.919321  0.076251  0.038997  0.069472  0.093618   \n",
       "157615  0.096684  0.982266  0.919321  0.076251  0.038997  0.069472  0.093618   \n",
       "157616  0.096684  0.982266  0.919321  0.076251  0.038997  0.069472  0.093618   \n",
       "157617  0.096684  0.982266  0.919321  0.076251  0.038997  0.069472  0.093618   \n",
       "\n",
       "               7         8         9  ...  DRUG_NAME_Wee1 Inhibitor  \\\n",
       "0       0.983428  0.953679  0.993825  ...                       0.0   \n",
       "1       0.983428  0.953679  0.993825  ...                       0.0   \n",
       "2       0.983428  0.953679  0.993825  ...                       0.0   \n",
       "3       0.983428  0.953679  0.993825  ...                       0.0   \n",
       "4       0.983428  0.953679  0.993825  ...                       0.0   \n",
       "...          ...       ...       ...  ...                       ...   \n",
       "157613  0.937792  0.913322  0.953113  ...                       0.0   \n",
       "157614  0.937792  0.913322  0.953113  ...                       0.0   \n",
       "157615  0.937792  0.913322  0.953113  ...                       0.0   \n",
       "157616  0.937792  0.913322  0.953113  ...                       0.0   \n",
       "157617  0.937792  0.913322  0.953113  ...                       0.0   \n",
       "\n",
       "        DRUG_NAME_Wnt-C59  DRUG_NAME_XAV939  DRUG_NAME_YK-4-279  \\\n",
       "0                     0.0               0.0                 0.0   \n",
       "1                     0.0               0.0                 0.0   \n",
       "2                     0.0               0.0                 0.0   \n",
       "3                     0.0               0.0                 0.0   \n",
       "4                     0.0               0.0                 0.0   \n",
       "...                   ...               ...                 ...   \n",
       "157613                0.0               0.0                 0.0   \n",
       "157614                0.0               0.0                 0.0   \n",
       "157615                0.0               0.0                 0.0   \n",
       "157616                0.0               0.0                 0.0   \n",
       "157617                0.0               0.0                 0.0   \n",
       "\n",
       "        DRUG_NAME_ZM447439  DRUG_NAME_Zoledronate  \\\n",
       "0                      0.0                    0.0   \n",
       "1                      0.0                    0.0   \n",
       "2                      0.0                    0.0   \n",
       "3                      0.0                    0.0   \n",
       "4                      0.0                    0.0   \n",
       "...                    ...                    ...   \n",
       "157613                 0.0                    0.0   \n",
       "157614                 0.0                    0.0   \n",
       "157615                 0.0                    0.0   \n",
       "157616                 0.0                    0.0   \n",
       "157617                 0.0                    0.0   \n",
       "\n",
       "        DRUG_NAME_alpha-lipoic acid  DRUG_NAME_ascorbate (vitamin C)  \\\n",
       "0                               0.0                              0.0   \n",
       "1                               0.0                              0.0   \n",
       "2                               0.0                              0.0   \n",
       "3                               0.0                              0.0   \n",
       "4                               0.0                              0.0   \n",
       "...                             ...                              ...   \n",
       "157613                          0.0                              0.0   \n",
       "157614                          0.0                              1.0   \n",
       "157615                          0.0                              0.0   \n",
       "157616                          1.0                              0.0   \n",
       "157617                          0.0                              0.0   \n",
       "\n",
       "        DRUG_NAME_glutathione    LN_IC50  \n",
       "0                         0.0  -2.902460  \n",
       "1                         0.0  -4.384381  \n",
       "2                         0.0   3.372862  \n",
       "3                         0.0   4.189364  \n",
       "4                         0.0  -3.693711  \n",
       "...                       ...        ...  \n",
       "157613                    0.0   6.556376  \n",
       "157614                    0.0  12.036685  \n",
       "157615                    1.0  11.217061  \n",
       "157616                    0.0   8.823341  \n",
       "157617                    0.0   9.995125  \n",
       "\n",
       "[157618 rows x 415 columns]"
      ]
     },
     "execution_count": 4,
     "metadata": {},
     "output_type": "execute_result"
    }
   ],
   "source": [
    "scaled_df"
   ]
  },
  {
   "attachments": {},
   "cell_type": "markdown",
   "metadata": {},
   "source": [
    "## Predictor Portion"
   ]
  },
  {
   "attachments": {},
   "cell_type": "markdown",
   "metadata": {},
   "source": [
    "### Declare dataset class"
   ]
  },
  {
   "cell_type": "code",
   "execution_count": 5,
   "metadata": {},
   "outputs": [],
   "source": [
    "class MyDataset(torch.utils.data.Dataset):\n",
    "    def __init__(self,df):\n",
    " \n",
    "        col = df.drop(columns=['LN_IC50']).columns\n",
    "        x = df.drop(columns=['LN_IC50'])\n",
    "        y = df['LN_IC50']\n",
    "        x = np.array(x)\n",
    "        y = np.array(y)\n",
    "    \n",
    "        self.x_train=torch.tensor(x,dtype=torch.float32)\n",
    "        self.y_train=torch.tensor(y,dtype=torch.float32)\n",
    " \n",
    "    def __len__(self):\n",
    "        return len(self.y_train)\n",
    "   \n",
    "    def __getitem__(self,idx):\n",
    "        return self.x_train[idx],self.y_train[idx]"
   ]
  },
  {
   "cell_type": "code",
   "execution_count": 6,
   "metadata": {},
   "outputs": [],
   "source": [
    "# declare full dataset\n",
    "full_dataset = MyDataset(scaled_df)\n",
    "\n",
    "# split dataset to train and test\n",
    "dim_np = np.array(scaled_df)\n",
    "dim_col = scaled_df.columns\n",
    "train, test = train_test_split(dim_np, train_size=0.8, shuffle=True, random_state=0)\n",
    "train = pd.DataFrame(train, columns=dim_col)\n",
    "test = pd.DataFrame(test, columns=dim_col)\n",
    "# declare train and test dataset\n",
    "train_dataset = MyDataset(train)\n",
    "test_dataset = MyDataset(test)"
   ]
  },
  {
   "cell_type": "code",
   "execution_count": 7,
   "metadata": {},
   "outputs": [],
   "source": [
    "xgb_x_train = train.drop(columns=['LN_IC50'])\n",
    "xgb_y_train = train['LN_IC50']\n",
    "\n",
    "xgb_x_test = test.drop(columns=['LN_IC50'])\n",
    "xgb_y_test = test['LN_IC50']"
   ]
  },
  {
   "attachments": {},
   "cell_type": "markdown",
   "metadata": {},
   "source": [
    "### Train with XGBoost"
   ]
  },
  {
   "cell_type": "code",
   "execution_count": 8,
   "metadata": {},
   "outputs": [],
   "source": [
    "import xgboost as xgb\n",
    "xgb_r = xgb.XGBRegressor()\n",
    "xgb_r.fit(xgb_x_train, xgb_y_train)\n",
    "\n",
    "y_pred = xgb_r.predict(xgb_x_test)"
   ]
  },
  {
   "cell_type": "code",
   "execution_count": 9,
   "metadata": {},
   "outputs": [
    {
     "data": {
      "text/plain": [
       "2.0796635844580593"
      ]
     },
     "execution_count": 9,
     "metadata": {},
     "output_type": "execute_result"
    }
   ],
   "source": [
    "y_pred_tensor = torch.tensor(y_pred)\n",
    "y_tensor = torch.tensor(xgb_y_test)\n",
    "loss_function = nn.MSELoss()\n",
    "\n",
    "loss_function(y_pred_tensor, y_tensor).item()\n"
   ]
  },
  {
   "attachments": {},
   "cell_type": "markdown",
   "metadata": {},
   "source": [
    "### Declare model class"
   ]
  },
  {
   "cell_type": "code",
   "execution_count": 10,
   "metadata": {},
   "outputs": [],
   "source": [
    "import torch.nn as nn\n",
    " \n",
    "class predictor_model(nn.Module):\n",
    "  def __init__(self):\n",
    "\n",
    "    super().__init__()\n",
    "\n",
    "    self.layers = nn.Sequential(\n",
    "    nn.Linear(414, 64),\n",
    "    nn.ReLU(),\n",
    "    nn.Linear(64, 32),\n",
    "    nn.ReLU(),\n",
    "    nn.Linear(32, 1)\n",
    "    )\n",
    "\n",
    "\n",
    "  def forward(self, x):\n",
    "    '''Forward pass'''\n",
    "    return self.layers(x)"
   ]
  },
  {
   "attachments": {},
   "cell_type": "markdown",
   "metadata": {},
   "source": [
    "### Declare reset weights function for cross validation"
   ]
  },
  {
   "cell_type": "code",
   "execution_count": 11,
   "metadata": {},
   "outputs": [],
   "source": [
    "def reset_weights(m):\n",
    "  '''\n",
    "    Try resetting model weights to avoid\n",
    "    weight leakage.\n",
    "  '''\n",
    "  for layer in m.children():\n",
    "   if hasattr(layer, 'reset_parameters'):\n",
    "    print(f'Reset trainable parameters of layer = {layer}')\n",
    "    layer.reset_parameters()"
   ]
  },
  {
   "attachments": {},
   "cell_type": "markdown",
   "metadata": {},
   "source": [
    "### Declare loss function"
   ]
  },
  {
   "cell_type": "code",
   "execution_count": 12,
   "metadata": {},
   "outputs": [],
   "source": [
    "loss_function = nn.MSELoss()"
   ]
  },
  {
   "attachments": {},
   "cell_type": "markdown",
   "metadata": {},
   "source": [
    "### Declare training parameters"
   ]
  },
  {
   "cell_type": "code",
   "execution_count": 19,
   "metadata": {},
   "outputs": [],
   "source": [
    "model = predictor_model()\n",
    "k_folds = 5\n",
    "n_epochs = 20\n",
    "torch.manual_seed(0)\n",
    "batch_size = 10\n",
    "lr = 0.0001\n",
    "kfold = KFold(n_splits=k_folds, shuffle = True)\n",
    "best_mse = np.inf\n",
    "best_weights = None\n",
    "history = []\n",
    "device = torch.device('cuda')\n",
    "optimizer = torch.optim.Adam(model.parameters(), lr= lr)\n",
    "model = model.to(device)"
   ]
  },
  {
   "attachments": {},
   "cell_type": "markdown",
   "metadata": {},
   "source": [
    "### Declare dataloaders"
   ]
  },
  {
   "cell_type": "code",
   "execution_count": 20,
   "metadata": {},
   "outputs": [],
   "source": [
    "train_loader = DataLoader(train_dataset, batch_size=batch_size, shuffle=False)\n",
    "test_loader = DataLoader(test_dataset,batch_size=batch_size, shuffle=False)"
   ]
  },
  {
   "attachments": {},
   "cell_type": "markdown",
   "metadata": {},
   "source": [
    "### Declare training function"
   ]
  },
  {
   "cell_type": "code",
   "execution_count": 21,
   "metadata": {},
   "outputs": [],
   "source": [
    "def train(model, dataloader):\n",
    "    count = 0\n",
    "    model.train()\n",
    "    current_loss = 0.0\n",
    "    for i, data in enumerate(dataloader,0):\n",
    "        x, y = data\n",
    "        \n",
    "        x = x.to(device)\n",
    "        y = y.to(device)\n",
    "\n",
    "        \n",
    "        output = model(x)\n",
    "        loss = loss_function(output, y)\n",
    "\n",
    "        optimizer.zero_grad()\n",
    "        loss.backward()\n",
    "        optimizer.step()\n",
    "\n",
    "        current_loss += loss.item()\n",
    "        count = count + 1\n",
    "\n",
    "    overall_loss = current_loss/count\n",
    "\n",
    "    return overall_loss\n",
    "\n"
   ]
  },
  {
   "attachments": {},
   "cell_type": "markdown",
   "metadata": {},
   "source": [
    "### Declare validation function"
   ]
  },
  {
   "cell_type": "code",
   "execution_count": 22,
   "metadata": {},
   "outputs": [],
   "source": [
    "def validate(model, dataloader):\n",
    "    count = 0\n",
    "    model.eval()\n",
    "    current_loss = 0.0\n",
    "    with torch.no_grad():\n",
    "        for i, data in enumerate(dataloader,0):\n",
    "            x, y = data\n",
    "        \n",
    "            x = x.to(device)\n",
    "            y = y.to(device)\n",
    "\n",
    "            output = model(x)\n",
    "            loss = loss_function(output, y)\n",
    "\n",
    "            current_loss += loss.item()\n",
    "            count = count + 1\n",
    "\n",
    "    overall_loss = current_loss/count\n",
    "\n",
    "    return overall_loss\n",
    "    "
   ]
  },
  {
   "cell_type": "code",
   "execution_count": 23,
   "metadata": {},
   "outputs": [],
   "source": [
    "def validate_new(model, X_test, y_test,best_mse, history,best_weights):\n",
    "    model.eval()\n",
    "    output = model(X_test)\n",
    "    mse = loss_function(output, y_test)\n",
    "    mse = float(mse)\n",
    "    history.append(mse)\n",
    "    if mse < best_mse:\n",
    "        best_mse = mse\n",
    "        best_weights = copy.deepcopy(model.state_dict())\n",
    "\n",
    "    return mse, best_mse, history, best_weights"
   ]
  },
  {
   "attachments": {},
   "cell_type": "markdown",
   "metadata": {},
   "source": [
    "### Execute Training"
   ]
  },
  {
   "cell_type": "code",
   "execution_count": 24,
   "metadata": {},
   "outputs": [
    {
     "name": "stdout",
     "output_type": "stream",
     "text": [
      "Starting epoch 1\n",
      "Training MSE loss for epoch 1: 7.6096666574961755\n"
     ]
    },
    {
     "name": "stderr",
     "output_type": "stream",
     "text": [
      "c:\\Users\\mdzak\\anaconda3\\envs\\fyp\\lib\\site-packages\\torch\\nn\\modules\\loss.py:536: UserWarning: Using a target size (torch.Size([31524])) that is different to the input size (torch.Size([31524, 1])). This will likely lead to incorrect results due to broadcasting. Please ensure they have the same size.\n",
      "  return F.mse_loss(input, target, reduction=self.reduction)\n"
     ]
    },
    {
     "name": "stdout",
     "output_type": "stream",
     "text": [
      "Validation MSE loss for epoch 1: 7.695577144622803\n",
      "Starting epoch 2\n",
      "Training MSE loss for epoch 2: 7.609565179198073\n",
      "Validation MSE loss for epoch 2: 7.6954169273376465\n",
      "Starting epoch 3\n",
      "Training MSE loss for epoch 3: 7.609464114384526\n",
      "Validation MSE loss for epoch 3: 7.695092678070068\n",
      "Starting epoch 4\n",
      "Training MSE loss for epoch 4: 7.6093551812742595\n",
      "Validation MSE loss for epoch 4: 7.69457483291626\n",
      "Starting epoch 5\n",
      "Training MSE loss for epoch 5: 7.609242495368509\n",
      "Validation MSE loss for epoch 5: 7.693907737731934\n",
      "Starting epoch 6\n",
      "Training MSE loss for epoch 6: 7.6091383731872995\n",
      "Validation MSE loss for epoch 6: 7.693153381347656\n",
      "Starting epoch 7\n",
      "Training MSE loss for epoch 7: 7.609040229364051\n",
      "Validation MSE loss for epoch 7: 7.692287921905518\n",
      "Starting epoch 8\n",
      "Training MSE loss for epoch 8: 7.608942730673428\n",
      "Validation MSE loss for epoch 8: 7.6913533210754395\n",
      "Starting epoch 9\n",
      "Training MSE loss for epoch 9: 7.6088531989354875\n",
      "Validation MSE loss for epoch 9: 7.690409183502197\n",
      "Starting epoch 10\n",
      "Training MSE loss for epoch 10: 7.608768327724619\n",
      "Validation MSE loss for epoch 10: 7.68941593170166\n",
      "Starting epoch 11\n",
      "Training MSE loss for epoch 11: 7.608682632446289\n",
      "Validation MSE loss for epoch 11: 7.688345432281494\n",
      "Starting epoch 12\n",
      "Training MSE loss for epoch 12: 7.60859625963362\n",
      "Validation MSE loss for epoch 12: 7.687211990356445\n",
      "Starting epoch 13\n",
      "Training MSE loss for epoch 13: 7.608507413651348\n",
      "Validation MSE loss for epoch 13: 7.686023712158203\n",
      "Starting epoch 14\n",
      "Training MSE loss for epoch 14: 7.60841904547345\n",
      "Validation MSE loss for epoch 14: 7.684844970703125\n",
      "Starting epoch 15\n",
      "Training MSE loss for epoch 15: 7.608332468094739\n",
      "Validation MSE loss for epoch 15: 7.683629989624023\n",
      "Starting epoch 16\n",
      "Training MSE loss for epoch 16: 7.608245772715756\n",
      "Validation MSE loss for epoch 16: 7.682466983795166\n",
      "Starting epoch 17\n",
      "Training MSE loss for epoch 17: 7.60816561813045\n",
      "Validation MSE loss for epoch 17: 7.681407451629639\n",
      "Starting epoch 18\n",
      "Training MSE loss for epoch 18: 7.608094915173359\n",
      "Validation MSE loss for epoch 18: 7.680484771728516\n",
      "Starting epoch 19\n",
      "Training MSE loss for epoch 19: 7.6080276467979076\n",
      "Validation MSE loss for epoch 19: 7.679516792297363\n",
      "Starting epoch 20\n",
      "Training MSE loss for epoch 20: 7.607955715477345\n",
      "Validation MSE loss for epoch 20: 7.678501605987549\n"
     ]
    }
   ],
   "source": [
    "train_loss_list = []\n",
    "val_loss_list = []\n",
    "best_mse = np.inf\n",
    "history = []\n",
    "best_weights = None\n",
    "for epoch in range(0, n_epochs):\n",
    "    print(f'Starting epoch {epoch+1}')\n",
    "\n",
    "    train_loss = train(model, train_loader)\n",
    "    train_loss_list.append(train_loss)\n",
    "    print(f'Training MSE loss for epoch {epoch+1}: ' + str(train_loss))\n",
    "\n",
    "    X_test = torch.tensor(np.array(xgb_x_test), dtype=torch.float32)\n",
    "    y_test = torch.tensor(np.array(xgb_y_test), dtype=torch.float32)\n",
    "    X_test = X_test.to(device)\n",
    "    y_test = y_test.to(device)\n",
    "    val_loss, best_mse, history, best_weights = validate_new(model, X_test, y_test, best_mse, history, best_weights)\n",
    "    val_loss_list.append(val_loss)\n",
    "    print(f'Validation MSE loss for epoch {epoch+1}: ' + str(val_loss))"
   ]
  },
  {
   "cell_type": "code",
   "execution_count": 24,
   "metadata": {},
   "outputs": [
    {
     "name": "stdout",
     "output_type": "stream",
     "text": [
      "Starting epoch 1\n"
     ]
    },
    {
     "name": "stderr",
     "output_type": "stream",
     "text": [
      "c:\\Users\\mdzak\\anaconda3\\envs\\fyp\\lib\\site-packages\\torch\\nn\\modules\\loss.py:536: UserWarning: Using a target size (torch.Size([10])) that is different to the input size (torch.Size([10, 1])). This will likely lead to incorrect results due to broadcasting. Please ensure they have the same size.\n",
      "  return F.mse_loss(input, target, reduction=self.reduction)\n",
      "c:\\Users\\mdzak\\anaconda3\\envs\\fyp\\lib\\site-packages\\torch\\nn\\modules\\loss.py:536: UserWarning: Using a target size (torch.Size([4])) that is different to the input size (torch.Size([4, 1])). This will likely lead to incorrect results due to broadcasting. Please ensure they have the same size.\n",
      "  return F.mse_loss(input, target, reduction=self.reduction)\n"
     ]
    },
    {
     "name": "stdout",
     "output_type": "stream",
     "text": [
      "Training MSE loss for epoch 1: 7.6495434621973795\n",
      "Validation MSE loss for epoch 1: 7.6443190583152845\n",
      "Starting epoch 2\n",
      "Training MSE loss for epoch 2: 7.5672776602639935\n",
      "Validation MSE loss for epoch 2: 7.629202788986935\n",
      "Starting epoch 3\n",
      "Training MSE loss for epoch 3: 7.559499932010197\n",
      "Validation MSE loss for epoch 3: 7.625607852118377\n",
      "Starting epoch 4\n"
     ]
    },
    {
     "ename": "",
     "evalue": "",
     "output_type": "error",
     "traceback": [
      "\u001b[1;31mCanceled future for execute_request message before replies were done"
     ]
    },
    {
     "ename": "",
     "evalue": "",
     "output_type": "error",
     "traceback": [
      "\u001b[1;31mThe Kernel crashed while executing code in the the current cell or a previous cell. Please review the code in the cell(s) to identify a possible cause of the failure. Click <a href='https://aka.ms/vscodeJupyterKernelCrash'>here</a> for more info. View Jupyter <a href='command:jupyter.viewOutput'>log</a> for further details."
     ]
    }
   ],
   "source": [
    "train_loss_list = []\n",
    "val_loss_list = []\n",
    "\n",
    "for epoch in range(0, n_epochs):\n",
    "    print(f'Starting epoch {epoch+1}')\n",
    "\n",
    "    train_loss = train(model, train_loader)\n",
    "    train_loss_list.append(train_loss)\n",
    "    print(f'Training MSE loss for epoch {epoch+1}: ' + str(train_loss))\n",
    "\n",
    "    val_loss = validate(model, test_loader)\n",
    "    val_loss_list.append(val_loss)\n",
    "    print(f'Validation MSE loss for epoch {epoch+1}: ' + str(val_loss))\n"
   ]
  },
  {
   "cell_type": "code",
   "execution_count": null,
   "metadata": {},
   "outputs": [],
   "source": []
  }
 ],
 "metadata": {
  "kernelspec": {
   "display_name": "fyp",
   "language": "python",
   "name": "python3"
  },
  "language_info": {
   "codemirror_mode": {
    "name": "ipython",
    "version": 3
   },
   "file_extension": ".py",
   "mimetype": "text/x-python",
   "name": "python",
   "nbconvert_exporter": "python",
   "pygments_lexer": "ipython3",
   "version": "3.9.16"
  },
  "orig_nbformat": 4
 },
 "nbformat": 4,
 "nbformat_minor": 2
}
